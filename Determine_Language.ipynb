{
  "cells": [
    {
      "cell_type": "markdown",
      "metadata": {
        "id": "qGEvO3b1sPM6"
      },
      "source": [
        "### Installing and Importing Important Libraries\n"
      ]
    },
    {
      "cell_type": "code",
      "execution_count": null,
      "metadata": {
        "id": "cwxm9rCgN8e9"
      },
      "outputs": [],
      "source": [
        "%%capture\n",
        "!pip install \"tensorflow==2.10.0\"\n",
        "!pip install \"tensorflow-text==2.10.0\""
      ]
    },
    {
      "cell_type": "code",
      "execution_count": null,
      "metadata": {
        "colab": {
          "base_uri": "https://localhost:8080/"
        },
        "id": "ox7HWud3KwW4",
        "outputId": "7e87cffe-2c35-4375-c702-662cb5d58465"
      },
      "outputs": [
        {
          "output_type": "stream",
          "name": "stdout",
          "text": [
            "2.10.0\n",
            "2.10.0\n"
          ]
        }
      ],
      "source": [
        "import tensorflow as tf\n",
        "from tensorflow.keras.models import Sequential\n",
        "from tensorflow.keras.layers import Embedding, LSTM, Dense\n",
        "import tensorflow_text as tf_text\n",
        "\n",
        "import numpy as np\n",
        "import pandas as pd\n",
        "import matplotlib.pyplot as plt\n",
        "\n",
        "print(tf.__version__)\n",
        "print(tf_text.__version__)"
      ]
    },
    {
      "cell_type": "markdown",
      "metadata": {
        "id": "AiVSk0t_scbL"
      },
      "source": [
        "### Loading and Processing the data"
      ]
    },
    {
      "cell_type": "code",
      "execution_count": null,
      "metadata": {
        "id": "MMqR71jrNt4I"
      },
      "outputs": [],
      "source": [
        "# reading the data\n",
        "def load_data(path):\n",
        "  # reading the data\n",
        "  pairs = pd.read_csv(path).values\n",
        "\n",
        "  # input and label arrays\n",
        "  sentences = pairs[:,0]\n",
        "  labels = pairs[:,1]\n",
        "\n",
        "  return sentences, labels "
      ]
    },
    {
      "cell_type": "code",
      "execution_count": null,
      "metadata": {
        "id": "j7vc8Q1sDe7A"
      },
      "outputs": [],
      "source": [
        "%%capture\n",
        "!git clone https://github.com/MarwanMohamed95/English-Arabic-NMT"
      ]
    },
    {
      "cell_type": "code",
      "execution_count": null,
      "metadata": {
        "colab": {
          "base_uri": "https://localhost:8080/"
        },
        "id": "mdNMIKpyDeez",
        "outputId": "5fb0f6d4-74cf-43fd-b4f0-0645b4695241"
      },
      "outputs": [
        {
          "output_type": "stream",
          "name": "stdout",
          "text": [
            "Number of Samples:  9820\n"
          ]
        }
      ],
      "source": [
        "path_to_file = '/content/English-Arabic-NMT/Language_det_train.csv'\n",
        "sentences, labels = load_data(path_to_file)\n",
        "print(\"Number of Samples: \",len(sentences))"
      ]
    },
    {
      "cell_type": "code",
      "execution_count": null,
      "metadata": {
        "id": "JDQF0Wnov-Vo"
      },
      "outputs": [],
      "source": [
        "Languages = ['Greek', 'Italian', 'Turkish', 'Sweedish', 'Arabic', 'Portugeese',\n",
        "       'English', 'Tamil', 'German', 'Malayalam', 'Russian', 'Dutch',\n",
        "       'French', 'Kannada', 'Danish', 'Hindi', 'Spanish']"
      ]
    },
    {
      "cell_type": "code",
      "execution_count": null,
      "metadata": {
        "id": "ZhPpnBqIOYDG"
      },
      "outputs": [],
      "source": [
        "# Creating a tf.data dataset of the strings that shuffles and batches\n",
        "BUFFER_SIZE = len(sentences)\n",
        "BATCH_SIZE = 64\n",
        "\n",
        "# splitting the data into train and validation\n",
        "is_train = np.random.uniform(size=(len(labels),)) < 0.8\n",
        "\n",
        "train_raw = (tf.data.Dataset.from_tensor_slices((sentences[is_train], labels[is_train])).shuffle(BUFFER_SIZE).batch(BATCH_SIZE))\n",
        "val_raw = (tf.data.Dataset.from_tensor_slices((sentences[~is_train], labels[~is_train])).shuffle(BUFFER_SIZE).batch(BATCH_SIZE))"
      ]
    },
    {
      "cell_type": "code",
      "execution_count": null,
      "metadata": {
        "id": "gbvHH01mOc-H"
      },
      "outputs": [],
      "source": [
        "# standardizing and processing the text\n",
        "def tf_lower_and_split_punct(text):\n",
        "  # Split accented characters.\n",
        "  text = tf_text.normalize_utf8(text, 'NFKD')\n",
        "  # removing special characters\n",
        "  text = tf.strings.regex_replace(text, r\"([?.!,¿])\", r\" \\1 \")\n",
        "  # Add spaces around punctuation.\n",
        "  text = tf.strings.regex_replace(text, r'[\" \"]+', ' ')\n",
        "  # Strip whitespace.\n",
        "  text = tf.strings.strip(text)\n",
        "  return text"
      ]
    },
    {
      "cell_type": "code",
      "execution_count": null,
      "metadata": {
        "id": "GFnDSo2iO52U",
        "colab": {
          "base_uri": "https://localhost:8080/"
        },
        "outputId": "9f7ce874-4ee5-4cf9-e96e-d98877874b58"
      },
      "outputs": [
        {
          "output_type": "execute_result",
          "data": {
            "text/plain": [
              "['', '[UNK]', ',', '.', 'de', 'a', 'en', 'the', 'que', 'la']"
            ]
          },
          "metadata": {},
          "execution_count": 10
        }
      ],
      "source": [
        "# tokenizing and padding the input sequences\n",
        "max_sequence_length = 30\n",
        "num_words = 60000\n",
        "num_classes = len(Languages)\n",
        "\n",
        "# the Spanish TextVectorization\n",
        "text_processor = tf.keras.layers.TextVectorization(standardize=tf_lower_and_split_punct, \n",
        "                                                           max_tokens=num_words, \n",
        "                                                           output_sequence_length=max_sequence_length)\n",
        "# This adapt method initializes the layer based on the data.\n",
        "text_processor.adapt(train_raw.map(lambda sentences, labels: sentences))\n",
        "\n",
        "# The first 10 words from context the vocabulary\n",
        "text_processor.get_vocabulary()[:10]"
      ]
    },
    {
      "cell_type": "code",
      "execution_count": null,
      "metadata": {
        "id": "NqqUK7tIU9wN"
      },
      "outputs": [],
      "source": [
        "def process_text(sentence, label):\n",
        "  # convert the context strings to 0-padded tensors of token IDs.\n",
        "  sequences = text_processor(sentence)\n",
        "  # Get unique class labels\n",
        "  unique_labels = tf.constant(Languages)\n",
        "\n",
        "  # Creating a dictionary mapping each unique label to an index\n",
        "  label_to_index = tf.lookup.StaticHashTable(\n",
        "      initializer=tf.lookup.KeyValueTensorInitializer(\n",
        "          keys=unique_labels,\n",
        "          values=tf.range(tf.size(unique_labels), dtype=tf.int32)),\n",
        "      default_value=-1)\n",
        "\n",
        "  # Convert class labels to indices\n",
        "  indices = label_to_index.lookup(label)\n",
        "\n",
        "  # Convert indices to one-hot encoding\n",
        "  one_hot_labels = tf.one_hot(indices, depth=tf.size(unique_labels))\n",
        "\n",
        "  return (sequences, one_hot_labels)\n",
        "\n",
        "train_ds = train_raw.map(process_text, tf.data.AUTOTUNE)\n",
        "val_ds = val_raw.map(process_text, tf.data.AUTOTUNE)"
      ]
    },
    {
      "cell_type": "code",
      "execution_count": null,
      "metadata": {
        "id": "rn1x77kqW22X",
        "colab": {
          "base_uri": "https://localhost:8080/"
        },
        "outputId": "7b824ac5-2d55-4ec5-c6ab-55e1b0c7c569"
      },
      "outputs": [
        {
          "output_type": "stream",
          "name": "stdout",
          "text": [
            "[11587     3     0     0     0     0     0     0     0     0     0     0\n",
            "     0     0     0     0     0     0     0     0     0     0     0     0\n",
            "     0     0     0     0     0     0]\n",
            "\n",
            "[0. 0. 0. 0. 0. 0. 1. 0. 0. 0. 0. 0. 0. 0. 0. 0. 0.]\n"
          ]
        }
      ],
      "source": [
        "for context_tokens, target_tokens in train_ds.take(1):\n",
        "  print(context_tokens[0].numpy()) \n",
        "  print()\n",
        "  print(target_tokens[0].numpy()) "
      ]
    },
    {
      "cell_type": "markdown",
      "metadata": {
        "id": "5zKsxN9Pu4QS"
      },
      "source": [
        "### Defining the model"
      ]
    },
    {
      "cell_type": "code",
      "execution_count": null,
      "metadata": {
        "id": "S_mFtsob2xh1"
      },
      "outputs": [],
      "source": [
        "embedding_dim = 256\n",
        "units = 128\n",
        "\n",
        "class CustomRNN(tf.keras.Model):\n",
        "    def __init__(self, num_words, max_sequence_length,units, num_classes, embedding_dim):\n",
        "        super(CustomRNN, self).__init__()\n",
        "        self.embedding = tf.keras.layers.Embedding(input_dim=num_words, \n",
        "                                                   output_dim= embedding_dim, input_length=max_sequence_length,\n",
        "                                                   mask_zero=True)\n",
        "        self.lstm = tf.keras.layers.LSTM(units=units, dropout=0.5)\n",
        "        self.norm = tf.keras.layers.BatchNormalization()\n",
        "        self.dense = tf.keras.layers.Dense(units=num_classes, activation='softmax')\n",
        "\n",
        "    def call(self, inputs):\n",
        "        x = self.embedding(inputs)\n",
        "        x = self.lstm(x)\n",
        "        x = self.norm(x)\n",
        "        return self.dense(x)\n",
        "\n",
        "# Create an instance of the custom model\n",
        "model = CustomRNN(num_words, max_sequence_length,units, num_classes, embedding_dim)"
      ]
    },
    {
      "cell_type": "code",
      "execution_count": null,
      "metadata": {
        "id": "K2UTp-a-b-Jz"
      },
      "outputs": [],
      "source": [
        "# Compile the model\n",
        "adam = tf.keras.optimizers.Adam(learning_rate = 0.01)\n",
        "model.compile(optimizer=adam, loss='categorical_crossentropy', metrics=['accuracy'])"
      ]
    },
    {
      "cell_type": "code",
      "execution_count": null,
      "metadata": {
        "id": "6Tr1BXB527EK",
        "colab": {
          "base_uri": "https://localhost:8080/"
        },
        "outputId": "9209913b-1280-492d-e635-d5ec33da0469"
      },
      "outputs": [
        {
          "output_type": "stream",
          "name": "stdout",
          "text": [
            "Epoch 1/20\n",
            "124/124 [==============================] - 15s 48ms/step - loss: 0.5119 - accuracy: 0.8492 - val_loss: 0.4399 - val_accuracy: 0.9336\n",
            "Epoch 2/20\n",
            "124/124 [==============================] - 3s 21ms/step - loss: 0.0984 - accuracy: 0.9757 - val_loss: 0.1931 - val_accuracy: 0.9476\n",
            "Epoch 3/20\n",
            "124/124 [==============================] - 2s 18ms/step - loss: 0.0451 - accuracy: 0.9890 - val_loss: 0.1719 - val_accuracy: 0.9466\n",
            "Epoch 4/20\n",
            "124/124 [==============================] - 2s 18ms/step - loss: 0.0206 - accuracy: 0.9944 - val_loss: 0.1697 - val_accuracy: 0.9544\n",
            "Epoch 5/20\n",
            "124/124 [==============================] - 2s 17ms/step - loss: 0.0146 - accuracy: 0.9965 - val_loss: 0.1761 - val_accuracy: 0.9565\n",
            "Epoch 6/20\n",
            "124/124 [==============================] - 2s 18ms/step - loss: 0.0074 - accuracy: 0.9977 - val_loss: 0.1786 - val_accuracy: 0.9554\n"
          ]
        }
      ],
      "source": [
        "num_epochs = 20\n",
        "# Train the model\n",
        "history = model.fit(train_ds, epochs=num_epochs, validation_data=val_ds,\n",
        "                    callbacks = [tf.keras.callbacks.EarlyStopping(patience=2)])"
      ]
    },
    {
      "cell_type": "code",
      "execution_count": null,
      "metadata": {
        "id": "k2j6h6ObBIox",
        "colab": {
          "base_uri": "https://localhost:8080/"
        },
        "outputId": "a8c0ce2a-3355-42bb-f77b-87bab22e78e3"
      },
      "outputs": [
        {
          "output_type": "stream",
          "name": "stdout",
          "text": [
            "31/31 [==============================] - 0s 12ms/step - loss: 0.1786 - accuracy: 0.9554\n",
            "Test Loss: 0.17857259511947632\n",
            "Test Accuracy: 0.9554173350334167\n"
          ]
        }
      ],
      "source": [
        "# Evaluate the model\n",
        "loss, accuracy = model.evaluate(val_ds)\n",
        "print(\"Test Loss:\", loss)\n",
        "print(\"Test Accuracy:\", accuracy)"
      ]
    },
    {
      "cell_type": "code",
      "execution_count": null,
      "metadata": {
        "id": "hPjGCx1kziw3",
        "colab": {
          "base_uri": "https://localhost:8080/",
          "height": 449
        },
        "outputId": "697ad562-32ed-4db3-9c69-7629847b189a"
      },
      "outputs": [
        {
          "output_type": "display_data",
          "data": {
            "text/plain": [
              "<Figure size 640x480 with 1 Axes>"
            ],
            "image/png": "[encoded data removed]"
          },
          "metadata": {}
        }
      ],
      "source": [
        "plt.plot(history.history['loss'], label='loss')\n",
        "plt.plot(history.history['val_loss'], label='val_loss')\n",
        "plt.ylim([0, max(plt.ylim())])\n",
        "plt.xlabel('Epoch #')\n",
        "plt.legend()\n",
        "plt.show()"
      ]
    },
    {
      "cell_type": "code",
      "execution_count": null,
      "metadata": {
        "id": "UwNll-m1zlBf",
        "colab": {
          "base_uri": "https://localhost:8080/",
          "height": 453
        },
        "outputId": "72c1277f-268d-4a26-b85f-79e2ad48e5a5"
      },
      "outputs": [
        {
          "output_type": "display_data",
          "data": {
            "text/plain": [
              "<Figure size 640x480 with 1 Axes>"
            ],
            "image/png": "[encoded data removed]"
          },
          "metadata": {}
        }
      ],
      "source": [
        "plt.plot(history.history['accuracy'], label='accuracy')\n",
        "plt.plot(history.history['val_accuracy'], label='val_accuracy')\n",
        "plt.ylim([0, max(plt.ylim())])\n",
        "plt.xlabel('Epoch #')\n",
        "plt.legend()\n",
        "plt.show()"
      ]
    },
    {
      "cell_type": "markdown",
      "metadata": {
        "id": "wimevBWcA4Oy"
      },
      "source": [
        "### Detector Class"
      ]
    },
    {
      "cell_type": "code",
      "execution_count": null,
      "metadata": {
        "id": "UjIPy8tyu9nf"
      },
      "outputs": [],
      "source": [
        "class LanguageDetector(tf.Module):\n",
        "    def __init__(self, text_processor, model, Languages):\n",
        "        self.model = model\n",
        "        self.text_processor = text_processor\n",
        "        self.Languages = Languages\n",
        "    \n",
        "    def __call__(self, sentence):\n",
        "        sentence = self.text_processor(sentence)\n",
        "        predicted_index = tf.argmax(self.model(tf.reshape(sentence, shape=(1, -1))), axis=1)\n",
        "        predicted_language = tf.gather(self.Languages, predicted_index)\n",
        "        predicted_language = predicted_language[()]\n",
        "        return predicted_language\n",
        "\n",
        "languageDetector = LanguageDetector(text_processor, model, Languages)"
      ]
    },
    {
      "cell_type": "code",
      "execution_count": null,
      "metadata": {
        "id": "tagS1MtMxQ_a",
        "colab": {
          "base_uri": "https://localhost:8080/"
        },
        "outputId": "11d2f4eb-e318-4c3f-df52-7719aa2b773c"
      },
      "outputs": [
        {
          "output_type": "stream",
          "name": "stdout",
          "text": [
            "Detected Language is:  Arabic\n"
          ]
        }
      ],
      "source": [
        "sentence = \"انا لا اشعر بالعطش\"\n",
        "language = languageDetector(sentence)\n",
        "print(\"Detected Language is: \",language.numpy()[0].decode())"
      ]
    },
    {
      "cell_type": "code",
      "execution_count": null,
      "metadata": {
        "id": "M90vOUk7DTso",
        "colab": {
          "base_uri": "https://localhost:8080/"
        },
        "outputId": "41e52308-4d6b-4095-a12a-b67f6c0463f0"
      },
      "outputs": [
        {
          "output_type": "stream",
          "name": "stdout",
          "text": [
            "Detected Language is:  English\n"
          ]
        }
      ],
      "source": [
        "sentence = \"This castle is amazing\"\n",
        "language = languageDetector(sentence)\n",
        "print(\"Detected Language is: \",language.numpy()[0].decode())"
      ]
    },
    {
      "cell_type": "markdown",
      "metadata": {
        "id": "Frn5jTLAA8y-"
      },
      "source": [
        "### Saving the model"
      ]
    },
    {
      "cell_type": "code",
      "execution_count": null,
      "metadata": {
        "id": "oumTw9lM7XK7"
      },
      "outputs": [],
      "source": [
        "class Export(tf.Module):\n",
        "    def __init__(self, languageDetector):\n",
        "        self.languageDetector = languageDetector\n",
        "\n",
        "    @tf.function(input_signature=[tf.TensorSpec(shape=[], dtype=tf.string)])\n",
        "    def __call__(self, sentence):\n",
        "        result = self.languageDetector(sentence)\n",
        "        return result"
      ]
    },
    {
      "cell_type": "code",
      "execution_count": null,
      "metadata": {
        "id": "WLEsXY50AhC5",
        "colab": {
          "base_uri": "https://localhost:8080/"
        },
        "outputId": "932285be-7e23-4f0e-da00-0f431d6a26d6"
      },
      "outputs": [
        {
          "output_type": "stream",
          "name": "stderr",
          "text": [
            "WARNING:absl:Found untraced functions such as lstm_cell_layer_call_fn, lstm_cell_layer_call_and_return_conditional_losses while saving (showing 2 of 2). These functions will not be directly callable after loading.\n"
          ]
        }
      ],
      "source": [
        "export = Export(languageDetector)\n",
        "tf.saved_model.save(export, export_dir='languageDetector')"
      ]
    },
    {
      "cell_type": "code",
      "execution_count": null,
      "metadata": {
        "id": "zJSEzIYp7kgr"
      },
      "outputs": [],
      "source": [
        "reloaded = tf.saved_model.load('/content/languageDetector')"
      ]
    },
    {
      "cell_type": "code",
      "execution_count": null,
      "metadata": {
        "id": "x2wF4dMP7s8H",
        "colab": {
          "base_uri": "https://localhost:8080/"
        },
        "outputId": "a530ac8d-2274-4831-8caa-ecd71dd31812"
      },
      "outputs": [
        {
          "output_type": "stream",
          "name": "stdout",
          "text": [
            "Prediction is:  English\n",
            "\n",
            "CPU times: user 700 ms, sys: 10.6 ms, total: 711 ms\n",
            "Wall time: 717 ms\n"
          ]
        }
      ],
      "source": [
        "%%time\n",
        "print(\"Prediction is: \", reloaded(sentence).numpy()[0].decode())\n",
        "print()"
      ]
    },
    {
      "cell_type": "code",
      "execution_count": null,
      "metadata": {
        "id": "02u4YXw5J-zU",
        "colab": {
          "base_uri": "https://localhost:8080/",
          "height": 35
        },
        "outputId": "588a5e6e-345a-4712-c26d-a9ad9d48ce11"
      },
      "outputs": [
        {
          "output_type": "execute_result",
          "data": {
            "text/plain": [
              "'/content/languageDetector.zip'"
            ],
            "application/vnd.google.colaboratory.intrinsic+json": {
              "type": "string"
            }
          },
          "metadata": {},
          "execution_count": 26
        }
      ],
      "source": [
        "# downloading the model\n",
        "import shutil\n",
        "folder_path = '/content/languageDetector'\n",
        "\n",
        "# Creating a zip file of the folder\n",
        "shutil.make_archive('/content/languageDetector', 'zip', folder_path)"
      ]
    },
    {
      "cell_type": "code",
      "source": [],
      "metadata": {
        "id": "50qEqdAJiTFB"
      },
      "execution_count": null,
      "outputs": []
    }
  ],
  "metadata": {
    "accelerator": "GPU",
    "colab": {
      "provenance": []
    },
    "kernelspec": {
      "display_name": "Python 3",
      "name": "python3"
    },
    "language_info": {
      "name": "python"
    }
  },
  "nbformat": 4,
  "nbformat_minor": 0
}