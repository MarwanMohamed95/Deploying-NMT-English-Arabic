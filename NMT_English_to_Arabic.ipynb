{
  "cells": [
    {
      "attachments": {},
      "cell_type": "markdown",
      "metadata": {
        "id": "smkGO_HXwSm5"
      },
      "source": [
        "# **Neural Machine Translation**\n",
        "\n",
        "This tutorial demonstrates how to train a sequence-to-sequence (seq2seq) model for English to Arabic translation using [Transformer](https://arxiv.org/abs/1706.03762)"
      ]
    },
    {
      "cell_type": "code",
      "execution_count": null,
      "metadata": {
        "id": "i277bqzzNZoh"
      },
      "outputs": [],
      "source": [
        "%%capture\n",
        "!pip install \"tensorflow-text>=2.11\""
      ]
    },
    {
      "cell_type": "code",
      "execution_count": null,
      "metadata": {
        "id": "fNBa6B0OLjK3"
      },
      "outputs": [],
      "source": [
        "import numpy as np\n",
        "import pandas as pd\n",
        "import matplotlib.pyplot as plt\n",
        "\n",
        "import tensorflow_text as tf_text\n",
        "import tensorflow as tf\n",
        "\n",
        "from nltk.util import ngrams\n",
        "from collections import Counter\n",
        "import warnings\n",
        "warnings.filterwarnings(\"ignore\")"
      ]
    },
    {
      "attachments": {},
      "cell_type": "markdown",
      "metadata": {
        "id": "Z-CtAP2Lwyh4"
      },
      "source": [
        "### Loading the data"
      ]
    },
    {
      "cell_type": "code",
      "execution_count": null,
      "metadata": {
        "id": "dAQMQXDWLjHw"
      },
      "outputs": [],
      "source": [
        "# reading the data\n",
        "def load_data(path):\n",
        "  # reading the data\n",
        "  pairs = pd.read_csv(path).values\n",
        "\n",
        "  # input and label arrays\n",
        "  context = pairs[:,0]\n",
        "  target = pairs[:,1]\n",
        "\n",
        "  return context, target "
      ]
    },
    {
      "cell_type": "code",
      "execution_count": null,
      "metadata": {
        "id": "mdj-dvVPLjEU"
      },
      "outputs": [],
      "source": [
        "%%capture\n",
        "!git clone https://github.com/MarwanMohamed95/English-Arabic-NMT"
      ]
    },
    {
      "cell_type": "code",
      "execution_count": null,
      "metadata": {
        "colab": {
          "base_uri": "https://localhost:8080/"
        },
        "id": "G3p4-3U2lFDc",
        "outputId": "8a2b9afe-29f1-4220-cb87-4a507763e5f6"
      },
      "outputs": [
        {
          "name": "stdout",
          "output_type": "stream",
          "text": [
            "Number of Samples:  23406\n"
          ]
        }
      ],
      "source": [
        "path_to_file = '/content/English-Arabic-NMT/translation_train.csv'\n",
        "context_raw, target_raw = load_data(path_to_file)\n",
        "print(\"Number of Samples: \",len(context_raw))"
      ]
    },
    {
      "cell_type": "code",
      "execution_count": null,
      "metadata": {
        "colab": {
          "base_uri": "https://localhost:8080/",
          "height": 35
        },
        "id": "TylQdw68w4xD",
        "outputId": "a7f5b26c-b5ce-4ae1-de85-7225d75d2590"
      },
      "outputs": [
        {
          "data": {
            "application/vnd.google.colaboratory.intrinsic+json": {
              "type": "string"
            },
            "text/plain": [
              "'I am a boy.'"
            ]
          },
          "execution_count": 6,
          "metadata": {},
          "output_type": "execute_result"
        }
      ],
      "source": [
        "context_raw[-1]"
      ]
    },
    {
      "cell_type": "code",
      "execution_count": null,
      "metadata": {
        "colab": {
          "base_uri": "https://localhost:8080/",
          "height": 35
        },
        "id": "6YVvnOFNw_1t",
        "outputId": "db04cfa3-79a5-4ccb-892a-2d9d82351c16"
      },
      "outputs": [
        {
          "data": {
            "application/vnd.google.colaboratory.intrinsic+json": {
              "type": "string"
            },
            "text/plain": [
              "'أنا ولد.'"
            ]
          },
          "execution_count": 7,
          "metadata": {},
          "output_type": "execute_result"
        }
      ],
      "source": [
        "target_raw[-1]"
      ]
    },
    {
      "cell_type": "code",
      "execution_count": null,
      "metadata": {
        "id": "fb6bGph8Li8M"
      },
      "outputs": [],
      "source": [
        "# Creating a tf.data dataset of the strings that shuffles and batches\n",
        "BUFFER_SIZE = len(context_raw)\n",
        "BATCH_SIZE = 64\n",
        "\n",
        "is_train = np.random.uniform(size=(len(target_raw),)) < 0.8\n",
        "\n",
        "train_raw = (tf.data.Dataset.from_tensor_slices((context_raw[is_train], target_raw[is_train])).shuffle(BUFFER_SIZE).batch(BATCH_SIZE))\n",
        "val_raw = (tf.data.Dataset.from_tensor_slices((context_raw[~is_train], target_raw[~is_train])).shuffle(BUFFER_SIZE).batch(BATCH_SIZE))"
      ]
    },
    {
      "cell_type": "code",
      "execution_count": null,
      "metadata": {
        "colab": {
          "base_uri": "https://localhost:8080/"
        },
        "id": "R2uCihRaOQhQ",
        "outputId": "536e1c58-661c-4869-8c13-8ee142a47112"
      },
      "outputs": [
        {
          "name": "stdout",
          "output_type": "stream",
          "text": [
            "> Examples in English:\n",
            "My boss is twice as old as I am.\n",
            "ahmed lababidi on the bus around the island he takes the bus to work but on sundays he has to take a taxi sometimes with quite good korean language proficiency he programs the navigation for the taxi driver credit malte e kollenberg used with pri s permission.\n",
            "which situation we will see in month there let s hope and pray syria.\n",
            "It's a rainy day.\n",
            "the square meter complex that makes up aldeia maracana or maracana village was donated to the indian protection service in from to the buildings served as the headquarters for the museum of the indian however since the change in location of the museum the buildings have been abandoned in indigenous from different ethnicities reoccupied the locale.\n",
            "\n",
            "> Examples in Arabic:\n",
            "رئيسي في العمل يكبرني عمراً بمرتين.\n",
            "احمد لبابيدي على متن الحافلة حول الجزيرة ياخذ الحافلة الى العمل ولكن يوم الاحد عليه ان ياخذ سيارة اجرة في بعض الاحيان مع اتقان اللغة الكورية يعمل على تلقين برنامج الملاحة لسايق سيارة اجرة الصورة مالتي كولنبرغ استخدمت باذن\n",
            "اي موقف سنراه هناك بعد شهر واحد؟ سوف نامل ونصلي من اجل سوريا\n",
            "اليوم ممطر.\n",
            "وقد تم التبرع بمجمع متر مربع التي تشكل الديا ماراكانا او قرية ماراكانا الى دايرة حماية السكان الاصليين في عام من عام خدمت المباني كمقر لمتحف السكان الاصليين ولكن منذ تغيير موقع المتحف تم التخلي عن المباني القديمة في عام اعاد عرق من السكان الاصليين احتلال المكان\n"
          ]
        }
      ],
      "source": [
        "for en_examples, ar_examples in train_raw.take(1):\n",
        "  print('> Examples in English:')\n",
        "  for sp in en_examples[:5]:\n",
        "    print(sp.numpy().decode('utf-8'))\n",
        "  print()\n",
        "\n",
        "  print('> Examples in Arabic:')\n",
        "  for en in ar_examples[:5]:\n",
        "    print(en.numpy().decode('utf-8'))"
      ]
    },
    {
      "cell_type": "code",
      "execution_count": null,
      "metadata": {
        "id": "0PMq44x8Li1e"
      },
      "outputs": [],
      "source": [
        "# standardizing and processing the text\n",
        "def english_processing(text):\n",
        "  # Split accented characters.\n",
        "  text = tf_text.normalize_utf8(text, 'NFKD')\n",
        "  text = tf.strings.lower(text)\n",
        "  # Keep space, a to z, and select punctuation.\n",
        "  text = tf.strings.regex_replace(text, '[^ a-z.?!,]', '')\n",
        "  # Add spaces around punctuation.\n",
        "  text = tf.strings.regex_replace(text, '[.?!,]', r' \\0 ')\n",
        "  # Strip whitespace.\n",
        "  text = tf.strings.strip(text)\n",
        "  # prepend and append START and END tokens to each sentence in the context and target\n",
        "  text = tf.strings.join(['[START]', text, '[END]'], separator=' ')\n",
        "  return text"
      ]
    },
    {
      "cell_type": "code",
      "execution_count": null,
      "metadata": {
        "id": "Cl5XHr7WVxf8"
      },
      "outputs": [],
      "source": [
        "# standardizing and processing the text\n",
        "def arabic_processing(text):\n",
        "  # Split accented characters.\n",
        "  text = tf_text.normalize_utf8(text, 'NFKD')\n",
        "  # Keep space, a to z, and select punctuation.\n",
        "  text = tf.strings.regex_replace(text, '[^ ا-ي.?!,]', '')\n",
        "  # Add spaces around punctuation.\n",
        "  text = tf.strings.regex_replace(text, '[.?!,]', r' \\0 ')\n",
        "  # Strip whitespace.\n",
        "  text = tf.strings.strip(text)\n",
        "  # prepend and append START and END tokens to each sentence in the context and target\n",
        "  text = tf.strings.join(['[START]', text, '[END]'], separator=' ')\n",
        "  return text"
      ]
    },
    {
      "cell_type": "code",
      "execution_count": null,
      "metadata": {
        "colab": {
          "base_uri": "https://localhost:8080/"
        },
        "id": "yMGed4dzsaa5",
        "outputId": "8ffbbc5e-14dd-43e7-f34f-e4399b2a4168"
      },
      "outputs": [
        {
          "name": "stdout",
          "output_type": "stream",
          "text": [
            "إن ذلك يغيظني حقاً.\n",
            "[START] ان ذلك يغيظني حقا . [END]\n"
          ]
        }
      ],
      "source": [
        "example_text = tf.constant('إن ذلك يغيظني حقاً.')\n",
        "print(example_text.numpy().decode())\n",
        "print(arabic_processing(example_text).numpy().decode())"
      ]
    },
    {
      "attachments": {},
      "cell_type": "markdown",
      "metadata": {
        "id": "lhIAuU9PxYQY"
      },
      "source": [
        "This standardization function will be wrapped up in a tf.keras.layers.TextVectorization layer which will handle the vocabulary extraction and conversion of input text to sequences of tokens."
      ]
    },
    {
      "cell_type": "code",
      "execution_count": null,
      "metadata": {
        "colab": {
          "base_uri": "https://localhost:8080/"
        },
        "id": "tGXf8CkaLikc",
        "outputId": "2ce1e43f-226e-47d9-ae5c-41de1867bbd7"
      },
      "outputs": [
        {
          "data": {
            "text/plain": [
              "['', '[UNK]', '[START]', '[END]', 'the', '.', 'of', 'to', 'in', 'and']"
            ]
          },
          "execution_count": 13,
          "metadata": {},
          "output_type": "execute_result"
        }
      ],
      "source": [
        "max_vocab_size = 60000\n",
        "max_sequence_length = 20\n",
        "\n",
        "# the English TextVectorization\n",
        "context_text_processor = tf.keras.layers.TextVectorization(standardize=english_processing, \n",
        "                                                           max_tokens=max_vocab_size, \n",
        "                                                           output_sequence_length=max_sequence_length)\n",
        "# This adapt method initializes the layer based on the data.\n",
        "context_text_processor.adapt(train_raw.map(lambda context, target: context))\n",
        "\n",
        "# The first 10 words from context the vocabulary\n",
        "context_text_processor.get_vocabulary()[:10]"
      ]
    },
    {
      "cell_type": "code",
      "execution_count": null,
      "metadata": {
        "colab": {
          "base_uri": "https://localhost:8080/"
        },
        "id": "noPrT9ILMchP",
        "outputId": "f9b7f054-e779-4036-8cf7-47dff72ae39e"
      },
      "outputs": [
        {
          "data": {
            "text/plain": [
              "['', '[UNK]', '[START]', '[END]', 'في', 'من', '.', 'على', 'ان', 'عن']"
            ]
          },
          "execution_count": 14,
          "metadata": {},
          "output_type": "execute_result"
        }
      ],
      "source": [
        "# the Arabic TextVectorization\n",
        "target_text_processor = tf.keras.layers.TextVectorization(standardize=arabic_processing, \n",
        "                                                          max_tokens=max_vocab_size, \n",
        "                                                          output_sequence_length=max_sequence_length)\n",
        "# This adapt method initializes the layer based on the data.\n",
        "target_text_processor.adapt(train_raw.map(lambda context, target: target))\n",
        "\n",
        "# The first 10 words from target the vocabulary\n",
        "target_text_processor.get_vocabulary()[:10]"
      ]
    },
    {
      "cell_type": "code",
      "execution_count": null,
      "metadata": {
        "colab": {
          "base_uri": "https://localhost:8080/"
        },
        "id": "lnah8fszxmLY",
        "outputId": "d5d40e7d-a31d-448f-8d97-f06fe54b51c5"
      },
      "outputs": [
        {
          "data": {
            "text/plain": [
              "<tf.Tensor: shape=(3, 20), dtype=int64, numpy=\n",
              "array([[    2,  3550,     4,   130, 20862, 11646, 38075,     6,     3,\n",
              "            0,     0,     0,     0,     0,     0,     0,     0,     0,\n",
              "            0,     0],\n",
              "       [    2,   770,  3209,     7,  3827,  2083,    34,   700,  4166,\n",
              "         2083,    11,   130,    72,    54,  1178,   155,     8,  4166,\n",
              "          478,  4667],\n",
              "       [    2,    37,  2247, 33875,    43,    29,   296,   198,   316,\n",
              "         3462, 22138,     5,   100,    90,     3,     0,     0,     0,\n",
              "            0,     0]])>"
            ]
          },
          "execution_count": 15,
          "metadata": {},
          "output_type": "execute_result"
        }
      ],
      "source": [
        "example_tokens = target_text_processor(ar_examples)\n",
        "example_tokens[:3, :]"
      ]
    },
    {
      "cell_type": "code",
      "execution_count": null,
      "metadata": {
        "colab": {
          "base_uri": "https://localhost:8080/",
          "height": 35
        },
        "id": "eQWRv-PTxn1V",
        "outputId": "521f80a1-c47f-497f-c138-f8e13add2e88"
      },
      "outputs": [
        {
          "data": {
            "application/vnd.google.colaboratory.intrinsic+json": {
              "type": "string"
            },
            "text/plain": [
              "'[START] رييسي في العمل يكبرني عمرا بمرتين . [END]           '"
            ]
          },
          "execution_count": 16,
          "metadata": {},
          "output_type": "execute_result"
        }
      ],
      "source": [
        "target_vocab = np.array(target_text_processor.get_vocabulary())\n",
        "tokens = target_vocab[example_tokens[0].numpy()]\n",
        "' '.join(tokens)"
      ]
    },
    {
      "cell_type": "code",
      "execution_count": null,
      "metadata": {
        "id": "mkiMoYTLMipM"
      },
      "outputs": [],
      "source": [
        "# The process_text function below converts from a (context, target) pair to an ((context, target_in), target_out) pair for training with keras.Model.fit.\n",
        "# The difference between target_in and target_out is that they are shifted by one step relative to eachother,\n",
        "# so that at each location the label is the next token.\n",
        "def process_text(context, target):\n",
        "  # convert the context strings tensors of token IDs.\n",
        "  context = context_text_processor(context)\n",
        "  # convert the target strings tensors of token IDs.\n",
        "  target = target_text_processor(target)\n",
        "  # 0-padded target tensors of token IDs except the last token\n",
        "  targ_in = target[:,:-1]\n",
        "  # 0-padded target tensors of token IDs shifted by one step relative to targ_in\n",
        "  targ_out = target[:,1:]\n",
        "  return (context, targ_in), targ_out\n",
        "\n",
        "\n",
        "train_ds = train_raw.map(process_text, tf.data.AUTOTUNE)\n",
        "val_ds = val_raw.map(process_text, tf.data.AUTOTUNE)"
      ]
    },
    {
      "cell_type": "code",
      "execution_count": null,
      "metadata": {
        "colab": {
          "base_uri": "https://localhost:8080/"
        },
        "id": "n5SiOIJnxxMl",
        "outputId": "d6eb52e5-6917-4bdf-fa45-18c772b4b04f"
      },
      "outputs": [
        {
          "name": "stdout",
          "output_type": "stream",
          "text": [
            "[    2     4  4121    90   161 14044   115     7  1825     4   405    18\n",
            "   458     4   147   167   244  3070   147     9]\n",
            "\n",
            "[    2   104     7   674  5334     8   324 38417  3207   597    58  1731\n",
            "   128  7393  2020   234  7451   128 25279]\n",
            "[  104     7   674  5334     8   324 38417  3207   597    58  1731   128\n",
            "  7393  2020   234  7451   128 25279 38845]\n"
          ]
        }
      ],
      "source": [
        "for (context_tokens, target_tokens_in), target_tokens_out in train_ds.take(1):\n",
        "  print(context_tokens[0].numpy()) \n",
        "  print()\n",
        "  print(target_tokens_in[0].numpy()) \n",
        "  print(target_tokens_out[0].numpy())"
      ]
    },
    {
      "cell_type": "code",
      "execution_count": null,
      "metadata": {
        "colab": {
          "base_uri": "https://localhost:8080/"
        },
        "id": "y6HTMQTHWyFt",
        "outputId": "97ec2717-4179-457c-b7f7-ee781db3a532"
      },
      "outputs": [
        {
          "name": "stdout",
          "output_type": "stream",
          "text": [
            "(64, 20)\n",
            "(64, 19)\n",
            "(64, 19)\n"
          ]
        }
      ],
      "source": [
        "for (en, ar), ar_labels in train_ds.take(1):\n",
        "  break\n",
        "\n",
        "print(en.shape)\n",
        "print(ar.shape)\n",
        "print(ar_labels.shape)"
      ]
    },
    {
      "attachments": {},
      "cell_type": "markdown",
      "metadata": {
        "id": "oX9lt9bq33tf"
      },
      "source": [
        "### Defining the components"
      ]
    },
    {
      "attachments": {},
      "cell_type": "markdown",
      "metadata": {
        "id": "J_ZgP0gZ4jr9"
      },
      "source": [
        "![](https://github.com/MarwanMohamed95/Neural-Machine-Translation-with-Transformer/blob/main/transformer.png?raw=true)"
      ]
    },
    {
      "attachments": {},
      "cell_type": "markdown",
      "metadata": {
        "id": "y48KWgPo6tXh"
      },
      "source": [
        "#### The embedding and positional encoding layer"
      ]
    },
    {
      "attachments": {},
      "cell_type": "markdown",
      "metadata": {
        "id": "EnQ-zKow6x00"
      },
      "source": [
        "The inputs to both the encoder and decoder use the same embedding and positional encoding logic.\n",
        "\n",
        "A Transformer adds a \"Positional Encoding\" to the embedding vectors. It uses a set of sines and cosines at different frequencies (across the sequence). By definition nearby elements will have similar position encodings.\n",
        "\n",
        "The formula for calculating the positional encoding (implemented in Python below) is as follows:\n",
        "\n",
        "$$\n",
        "\\Large{PE_{(pos, 2i)} = \\sin(pos / 10000^{2i / d_{model} })} \\\\\n",
        "\\Large{PE_{(pos, 2i+1)} = \\cos(pos / 10000^{2i / d_{model} })}\n",
        "$$\n",
        "\n",
        "The position encoding function is a stack of sines and cosines that vibrate at different frequencies depending on their location along the depth of the embedding vector. They vibrate across the position axis."
      ]
    },
    {
      "cell_type": "code",
      "execution_count": null,
      "metadata": {
        "id": "-apsgS_QXvvc"
      },
      "outputs": [],
      "source": [
        "def positional_encoding(length, depth):\n",
        "  depth = depth/2\n",
        "\n",
        "  positions = np.arange(length)[:, np.newaxis]     # (seq, 1)\n",
        "  depths = np.arange(depth)[np.newaxis, :]/depth   # (1, depth)\n",
        "\n",
        "  angle_rates = 1 / (10000**depths)         # (1, depth)\n",
        "  angle_rads = positions * angle_rates      # (pos, depth)\n",
        "\n",
        "  pos_encoding = np.concatenate([np.sin(angle_rads), np.cos(angle_rads)], axis=-1) \n",
        "\n",
        "  return tf.cast(pos_encoding, dtype=tf.float32)"
      ]
    },
    {
      "attachments": {},
      "cell_type": "markdown",
      "metadata": {
        "id": "28Fz7DPr8S8m"
      },
      "source": [
        "So we use this to create a PositionEmbedding layer that looks-up a token's embedding vector and adds the position vector:"
      ]
    },
    {
      "cell_type": "code",
      "execution_count": null,
      "metadata": {
        "id": "etv1AIEAa2Ef"
      },
      "outputs": [],
      "source": [
        "class PositionalEmbedding(tf.keras.layers.Layer):\n",
        "  def __init__(self, vocab_size, d_model):\n",
        "    super().__init__()\n",
        "    self.d_model = d_model\n",
        "    self.embedding = tf.keras.layers.Embedding(vocab_size, d_model, mask_zero=True) \n",
        "    self.pos_encoding = positional_encoding(length=2048, depth=d_model)\n",
        "\n",
        "  def compute_mask(self, *args, **kwargs):\n",
        "    return self.embedding.compute_mask(*args, **kwargs)\n",
        "\n",
        "  def call(self, x):\n",
        "    length = tf.shape(x)[1]\n",
        "    x = self.embedding(x)\n",
        "    # This factor sets the relative scale of the embedding and positonal_encoding.\n",
        "    x *= tf.math.sqrt(tf.cast(self.d_model, tf.float32))\n",
        "    x = x + self.pos_encoding[tf.newaxis, :length, :]\n",
        "    return x"
      ]
    },
    {
      "cell_type": "code",
      "execution_count": null,
      "metadata": {
        "id": "V4EWtE5NbDc2"
      },
      "outputs": [],
      "source": [
        "embed_en = PositionalEmbedding(vocab_size=context_text_processor.vocabulary_size(), d_model=512)\n",
        "embed_ar = PositionalEmbedding(vocab_size=target_text_processor.vocabulary_size(), d_model=512)\n",
        "\n",
        "en_emb = embed_en(en)\n",
        "ar_emb = embed_ar(ar)"
      ]
    },
    {
      "attachments": {},
      "cell_type": "markdown",
      "metadata": {
        "id": "DLgMnYcp8gGs"
      },
      "source": [
        "#### The base attention layer"
      ]
    },
    {
      "attachments": {},
      "cell_type": "markdown",
      "metadata": {
        "id": "7jZGmWTK9MpD"
      },
      "source": [
        "Attention layers are used throughout the model. These are all identical except for how the attention is configured. Each one contains a layers.MultiHeadAttention, a  layers.LayerNormalization and a layers.Add.\n",
        "\n",
        "The BaseAttention class is a base class that just contains the component layers. Each use-case will be implemented as a subclass."
      ]
    },
    {
      "cell_type": "code",
      "execution_count": null,
      "metadata": {
        "id": "baiWcQtJbLhc"
      },
      "outputs": [],
      "source": [
        "class BaseAttention(tf.keras.layers.Layer):\n",
        "  def __init__(self, **kwargs):\n",
        "    super().__init__()\n",
        "    self.mha = tf.keras.layers.MultiHeadAttention(**kwargs)\n",
        "    self.layernorm = tf.keras.layers.LayerNormalization()\n",
        "    self.add = tf.keras.layers.Add()"
      ]
    },
    {
      "attachments": {},
      "cell_type": "markdown",
      "metadata": {
        "id": "LS8SAxae-FhF"
      },
      "source": [
        "#### The cross attention layer"
      ]
    },
    {
      "attachments": {},
      "cell_type": "markdown",
      "metadata": {
        "id": "PHtcw0IU-Ppz"
      },
      "source": [
        "This layer connects the encoder and decoder\n",
        "\n",
        "$$\n",
        "\\begin{aligned}\n",
        "\\text{Attention}(Q, K, V) &= \\text{softmax}\\left(\\frac{QK^T}{\\sqrt{d_k}}\\right)\n",
        "\\end{aligned}\n",
        "$$"
      ]
    },
    {
      "cell_type": "code",
      "execution_count": null,
      "metadata": {
        "id": "FmZmik5Mea-E"
      },
      "outputs": [],
      "source": [
        "class CrossAttention(BaseAttention):\n",
        "  def call(self, x, context):\n",
        "    attn_output, attn_scores = self.mha(\n",
        "        query=x,\n",
        "        key=context,\n",
        "        value=context,\n",
        "        return_attention_scores=True)\n",
        "\n",
        "    self.last_attn_scores = attn_scores\n",
        "\n",
        "    x = self.add([x, attn_output])\n",
        "    x = self.layernorm(x)\n",
        "\n",
        "    return x"
      ]
    },
    {
      "cell_type": "code",
      "execution_count": null,
      "metadata": {
        "colab": {
          "base_uri": "https://localhost:8080/"
        },
        "id": "Tz-f096ElmkT",
        "outputId": "c900a21c-3bb7-496e-eb85-e165bf91e337"
      },
      "outputs": [
        {
          "name": "stdout",
          "output_type": "stream",
          "text": [
            "(64, 20, 512)\n",
            "(64, 19, 512)\n",
            "(64, 19, 512)\n"
          ]
        }
      ],
      "source": [
        "sample_ca = CrossAttention(num_heads=2, key_dim=512)\n",
        "\n",
        "print(en_emb.shape)\n",
        "print(ar_emb.shape)\n",
        "print(sample_ca(ar_emb, en_emb).shape)"
      ]
    },
    {
      "attachments": {},
      "cell_type": "markdown",
      "metadata": {
        "id": "XT2ubFOtHapT"
      },
      "source": [
        "#### The global self attention layer"
      ]
    },
    {
      "attachments": {},
      "cell_type": "markdown",
      "metadata": {
        "id": "pL5JaRmOHfQG"
      },
      "source": [
        "This layer is responsible for processing the context sequence, and propagating information along its length.\n",
        "The global self attention layer lets every sequence element directly access every other sequence element, with only a few operations, and all the outputs can be computed in parallel"
      ]
    },
    {
      "cell_type": "code",
      "execution_count": null,
      "metadata": {
        "id": "VBfgAh1flq5P"
      },
      "outputs": [],
      "source": [
        "class GlobalSelfAttention(BaseAttention):\n",
        "  def call(self, x):\n",
        "    attn_output = self.mha(\n",
        "        query=x,\n",
        "        value=x,\n",
        "        key=x)\n",
        "    x = self.add([x, attn_output])\n",
        "    x = self.layernorm(x)\n",
        "    return x"
      ]
    },
    {
      "cell_type": "code",
      "execution_count": null,
      "metadata": {
        "colab": {
          "base_uri": "https://localhost:8080/"
        },
        "id": "7dNW2GrCn-w2",
        "outputId": "ce4ec95d-5741-45d4-c82d-47705f0adede"
      },
      "outputs": [
        {
          "name": "stdout",
          "output_type": "stream",
          "text": [
            "(64, 20, 512)\n",
            "(64, 20, 512)\n"
          ]
        }
      ],
      "source": [
        "sample_gsa = GlobalSelfAttention(num_heads=2, key_dim=512)\n",
        "\n",
        "print(en_emb.shape)\n",
        "print(sample_gsa(en_emb).shape)"
      ]
    },
    {
      "attachments": {},
      "cell_type": "markdown",
      "metadata": {
        "id": "0vxopriVImC_"
      },
      "source": [
        "#### The causal self attention layer"
      ]
    },
    {
      "attachments": {},
      "cell_type": "markdown",
      "metadata": {
        "id": "WOhzo4HYI28r"
      },
      "source": [
        "This layer does a similar job as the global self attention layer, for the output sequence.\n",
        "This needs to be handled differently from the encoder's global self attention layer.\n",
        "Transformers are an \"autoregressive\" model: They generate the text one token at a time and feed that output back to the input. To make this efficient, these models ensure that the output for each sequence element only depends on the previous sequence elements; the models are \"causal\".\n",
        "To build a causal self attention layer, you need to use an appropriate mask when computing the attention scores and summing the attention values.\n",
        "\n",
        "This is taken care of automatically if you pass use_causal_mask = True to the MultiHeadAttention layer when we call it.\n",
        "\n",
        "The causal mask ensures that each location only has access to the locations that come before it"
      ]
    },
    {
      "cell_type": "code",
      "execution_count": null,
      "metadata": {
        "id": "Ng3W9lBpoCBq"
      },
      "outputs": [],
      "source": [
        "class CausalSelfAttention(BaseAttention):\n",
        "  def call(self, x):\n",
        "    attn_output = self.mha(\n",
        "        query=x,\n",
        "        value=x,\n",
        "        key=x,\n",
        "        use_causal_mask = True)\n",
        "    x = self.add([x, attn_output])\n",
        "    x = self.layernorm(x)\n",
        "    return x"
      ]
    },
    {
      "cell_type": "code",
      "execution_count": null,
      "metadata": {
        "colab": {
          "base_uri": "https://localhost:8080/"
        },
        "id": "6hxAQLlq5haI",
        "outputId": "2bffca78-c202-4ec9-8c42-ceec49a2f0ef"
      },
      "outputs": [
        {
          "name": "stdout",
          "output_type": "stream",
          "text": [
            "(64, 19, 512)\n",
            "(64, 19, 512)\n"
          ]
        }
      ],
      "source": [
        "sample_csa = CausalSelfAttention(num_heads=2, key_dim=512)\n",
        "\n",
        "print(ar_emb.shape)\n",
        "print(sample_csa(ar_emb).shape)"
      ]
    },
    {
      "cell_type": "code",
      "execution_count": null,
      "metadata": {
        "colab": {
          "base_uri": "https://localhost:8080/"
        },
        "id": "Fy7h4iL_5uxr",
        "outputId": "64d57ddc-a212-4e73-f19f-aa8d5eaf4812"
      },
      "outputs": [
        {
          "data": {
            "text/plain": [
              "5.9604645e-07"
            ]
          },
          "execution_count": 30,
          "metadata": {},
          "output_type": "execute_result"
        }
      ],
      "source": [
        "out1 = sample_csa(embed_ar(ar[:, :3])) \n",
        "out2 = sample_csa(embed_ar(ar))[:, :3]\n",
        "\n",
        "tf.reduce_max(abs(out1 - out2)).numpy()"
      ]
    },
    {
      "attachments": {},
      "cell_type": "markdown",
      "metadata": {
        "id": "P3XUUeBMJs_4"
      },
      "source": [
        "#### The feed forward network\n",
        "\n",
        "The transformer includes feed-forward network in both the encoder and decoder"
      ]
    },
    {
      "cell_type": "code",
      "execution_count": null,
      "metadata": {
        "id": "FFdsdETa5-nU"
      },
      "outputs": [],
      "source": [
        "class FeedForward(tf.keras.layers.Layer):\n",
        "  def __init__(self, d_model, dff, dropout_rate=0.1):\n",
        "    super().__init__()\n",
        "    self.seq = tf.keras.Sequential([\n",
        "      tf.keras.layers.Dense(dff, activation='relu'),\n",
        "      tf.keras.layers.Dense(d_model),\n",
        "      tf.keras.layers.Dropout(dropout_rate)\n",
        "    ])\n",
        "    self.add = tf.keras.layers.Add()\n",
        "    self.layer_norm = tf.keras.layers.LayerNormalization()\n",
        "\n",
        "  def call(self, x):\n",
        "    x = self.add([x, self.seq(x)])\n",
        "    x = self.layer_norm(x) \n",
        "    return x"
      ]
    },
    {
      "cell_type": "code",
      "execution_count": null,
      "metadata": {
        "colab": {
          "base_uri": "https://localhost:8080/"
        },
        "id": "j-tj84AV6bR_",
        "outputId": "f970c280-de5a-4365-e88b-28c0ad3917cc"
      },
      "outputs": [
        {
          "name": "stdout",
          "output_type": "stream",
          "text": [
            "(64, 19, 512)\n",
            "(64, 19, 512)\n"
          ]
        }
      ],
      "source": [
        "sample_ffn = FeedForward(512, 2048)\n",
        "\n",
        "print(ar_emb.shape)\n",
        "print(sample_ffn(ar_emb).shape)"
      ]
    },
    {
      "attachments": {},
      "cell_type": "markdown",
      "metadata": {
        "id": "eWX7rDlnKxgt"
      },
      "source": [
        "#### The encoder layer\n",
        "\n",
        "The encoder contains a stack of N encoder layers. Where each EncoderLayer contains a GlobalSelfAttention and FeedForward layer"
      ]
    },
    {
      "cell_type": "code",
      "execution_count": null,
      "metadata": {
        "id": "MxpAgW1Z6c1g"
      },
      "outputs": [],
      "source": [
        "class EncoderLayer(tf.keras.layers.Layer):\n",
        "  def __init__(self,*, d_model, num_heads, dff, dropout_rate=0.1):\n",
        "    super().__init__()\n",
        "\n",
        "    self.self_attention = GlobalSelfAttention(\n",
        "        num_heads=num_heads,\n",
        "        key_dim=d_model,\n",
        "        dropout=dropout_rate)\n",
        "\n",
        "    self.ffn = FeedForward(d_model, dff)\n",
        "\n",
        "  def call(self, x):\n",
        "    x = self.self_attention(x)\n",
        "    x = self.ffn(x)\n",
        "    return x"
      ]
    },
    {
      "cell_type": "code",
      "execution_count": null,
      "metadata": {
        "colab": {
          "base_uri": "https://localhost:8080/"
        },
        "id": "Eyo0gViP6nEF",
        "outputId": "aa67a7fc-db7f-4c51-807e-3f51de17e0de"
      },
      "outputs": [
        {
          "name": "stdout",
          "output_type": "stream",
          "text": [
            "(64, 20, 512)\n",
            "(64, 20, 512)\n"
          ]
        }
      ],
      "source": [
        "sample_encoder_layer = EncoderLayer(d_model=512, num_heads=8, dff=2048)\n",
        "\n",
        "print(en_emb.shape)\n",
        "print(sample_encoder_layer(en_emb).shape)"
      ]
    },
    {
      "attachments": {},
      "cell_type": "markdown",
      "metadata": {
        "id": "HGuzGNU-K_6r"
      },
      "source": [
        "#### The encoder\n",
        "\n",
        "The encoder consists of:\n",
        "\n",
        "- A PositionalEmbedding layer at the input.\n",
        "- A stack of EncoderLayer layers."
      ]
    },
    {
      "cell_type": "code",
      "execution_count": null,
      "metadata": {
        "id": "jut84nCJ6rrG"
      },
      "outputs": [],
      "source": [
        "class Encoder(tf.keras.layers.Layer):\n",
        "  def __init__(self, *, num_layers, d_model, num_heads,\n",
        "               dff, vocab_size, dropout_rate=0.1):\n",
        "    super().__init__()\n",
        "\n",
        "    self.d_model = d_model\n",
        "    self.num_layers = num_layers\n",
        "\n",
        "    self.pos_embedding = PositionalEmbedding(\n",
        "        vocab_size=vocab_size, d_model=d_model)\n",
        "\n",
        "    self.enc_layers = [\n",
        "        EncoderLayer(d_model=d_model,\n",
        "                     num_heads=num_heads,\n",
        "                     dff=dff,\n",
        "                     dropout_rate=dropout_rate)\n",
        "        for _ in range(num_layers)]\n",
        "    self.dropout = tf.keras.layers.Dropout(dropout_rate)\n",
        "\n",
        "  def call(self, x):\n",
        "    # `x` is token-IDs shape: (batch, seq_len)\n",
        "    x = self.pos_embedding(x)  # Shape `(batch_size, seq_len, d_model)`.\n",
        "\n",
        "    # Add dropout.\n",
        "    x = self.dropout(x)\n",
        "\n",
        "    for i in range(self.num_layers):\n",
        "      x = self.enc_layers[i](x)\n",
        "\n",
        "    return x  # Shape `(batch_size, seq_len, d_model)`."
      ]
    },
    {
      "cell_type": "code",
      "execution_count": null,
      "metadata": {
        "colab": {
          "base_uri": "https://localhost:8080/"
        },
        "id": "hdgnqm5E79Pq",
        "outputId": "bc470536-5b14-4f9b-a002-5571e659b866"
      },
      "outputs": [
        {
          "name": "stdout",
          "output_type": "stream",
          "text": [
            "(64, 20)\n",
            "(64, 20, 512)\n"
          ]
        }
      ],
      "source": [
        "# Instantiate the encoder.\n",
        "sample_encoder = Encoder(num_layers=4, d_model=512, num_heads=8, dff=2048, vocab_size=max_vocab_size)\n",
        "\n",
        "sample_encoder_output = sample_encoder(en, training=False)\n",
        "\n",
        "# Print the shape.\n",
        "print(en.shape)\n",
        "print(sample_encoder_output.shape)  # Shape `(batch_size, input_seq_len, d_model)`."
      ]
    },
    {
      "attachments": {},
      "cell_type": "markdown",
      "metadata": {
        "id": "dUHQzJR-LJJT"
      },
      "source": [
        "#### The decoder layer\n",
        "\n",
        "The decoder's layer consists of DecoderLayer containing a CausalSelfAttention, a CrossAttention, and a FeedForward layer"
      ]
    },
    {
      "cell_type": "code",
      "execution_count": null,
      "metadata": {
        "id": "27Wt49k17_cz"
      },
      "outputs": [],
      "source": [
        "class DecoderLayer(tf.keras.layers.Layer):\n",
        "  def __init__(self,\n",
        "               *,\n",
        "               d_model,\n",
        "               num_heads,\n",
        "               dff,\n",
        "               dropout_rate=0.1):\n",
        "    super(DecoderLayer, self).__init__()\n",
        "\n",
        "    self.causal_self_attention = CausalSelfAttention(\n",
        "        num_heads=num_heads,\n",
        "        key_dim=d_model,\n",
        "        dropout=dropout_rate)\n",
        "\n",
        "    self.cross_attention = CrossAttention(\n",
        "        num_heads=num_heads,\n",
        "        key_dim=d_model,\n",
        "        dropout=dropout_rate)\n",
        "\n",
        "    self.ffn = FeedForward(d_model, dff)\n",
        "\n",
        "  def call(self, x, context):\n",
        "    x = self.causal_self_attention(x=x)\n",
        "    x = self.cross_attention(x=x, context=context)\n",
        "\n",
        "    self.last_attn_scores = self.cross_attention.last_attn_scores\n",
        "\n",
        "    x = self.ffn(x)  # Shape `(batch_size, seq_len, d_model)`.\n",
        "    return x"
      ]
    },
    {
      "cell_type": "code",
      "execution_count": null,
      "metadata": {
        "colab": {
          "base_uri": "https://localhost:8080/"
        },
        "id": "REgHS91a8UW1",
        "outputId": "b2dcc3c4-adb8-4d55-bcda-77d58623a049"
      },
      "outputs": [
        {
          "name": "stdout",
          "output_type": "stream",
          "text": [
            "(64, 19, 512)\n",
            "(64, 20, 512)\n",
            "(64, 19, 512)\n"
          ]
        }
      ],
      "source": [
        "sample_decoder_layer = DecoderLayer(d_model=512, num_heads=8, dff=2048)\n",
        "\n",
        "sample_decoder_layer_output = sample_decoder_layer(\n",
        "    x=ar_emb, context=en_emb)\n",
        "\n",
        "print(ar_emb.shape)\n",
        "print(en_emb.shape)\n",
        "print(sample_decoder_layer_output.shape)  # `(batch_size, seq_len, d_model)`"
      ]
    },
    {
      "attachments": {},
      "cell_type": "markdown",
      "metadata": {
        "id": "E7UVV6MsLc8Z"
      },
      "source": [
        "#### The decoder\n",
        "Similar to the Encoder, the Decoder consists of a PositionalEmbedding, and a stack of DecoderLayers"
      ]
    },
    {
      "cell_type": "code",
      "execution_count": null,
      "metadata": {
        "id": "4BzdYw-d8XoG"
      },
      "outputs": [],
      "source": [
        "class Decoder(tf.keras.layers.Layer):\n",
        "  def __init__(self, *, num_layers, d_model, num_heads, dff, vocab_size,\n",
        "               dropout_rate=0.1):\n",
        "    super(Decoder, self).__init__()\n",
        "\n",
        "    self.d_model = d_model\n",
        "    self.num_layers = num_layers\n",
        "\n",
        "    self.pos_embedding = PositionalEmbedding(vocab_size=vocab_size, d_model=d_model)\n",
        "    self.dropout = tf.keras.layers.Dropout(dropout_rate)\n",
        "    self.dec_layers = [DecoderLayer(d_model=d_model, num_heads=num_heads, dff=dff, dropout_rate=dropout_rate) for _ in range(num_layers)]\n",
        "\n",
        "    self.last_attn_scores = None\n",
        "\n",
        "  def call(self, x, context):\n",
        "    # `x` is token-IDs shape (batch, target_seq_len)\n",
        "    x = self.pos_embedding(x)  # (batch_size, target_seq_len, d_model)\n",
        "\n",
        "    x = self.dropout(x)\n",
        "\n",
        "    for i in range(self.num_layers):\n",
        "      x  = self.dec_layers[i](x, context)\n",
        "\n",
        "    self.last_attn_scores = self.dec_layers[-1].last_attn_scores\n",
        "\n",
        "    # The shape of x is (batch_size, target_seq_len, d_model).\n",
        "    return x"
      ]
    },
    {
      "cell_type": "code",
      "execution_count": null,
      "metadata": {
        "colab": {
          "base_uri": "https://localhost:8080/"
        },
        "id": "ywD_iaLA8q2a",
        "outputId": "cba42e6a-186e-47fe-8576-870358201700"
      },
      "outputs": [
        {
          "name": "stdout",
          "output_type": "stream",
          "text": [
            "(64, 19)\n",
            "(64, 19, 512)\n",
            "(64, 20, 512)\n"
          ]
        }
      ],
      "source": [
        "# Instantiate the decoder.\n",
        "sample_decoder = Decoder(num_layers=4, d_model=512, num_heads=8, dff=2048, vocab_size=max_vocab_size)\n",
        "\n",
        "output = sample_decoder(x=en, context=en_emb)\n",
        "\n",
        "# Print the shapes.\n",
        "print(ar.shape)\n",
        "print(ar_emb.shape)\n",
        "print(output.shape)"
      ]
    },
    {
      "attachments": {},
      "cell_type": "markdown",
      "metadata": {
        "id": "E93L3yTMLo8r"
      },
      "source": [
        "#### The Transformer\n",
        "We now have Encoder and Decoder. To complete the Transformer model, we need to put them together and add a final linear (Dense) layer which converts the resulting vector at each location into output token probabilities.\n",
        "\n",
        "The output of the decoder is the input to this final linear layer.\n",
        "\n",
        "A Transformer with one layer in both the Encoder and Decoder looks almost exactly like the model from the RNN+attention tutorial. A multi-layer Transformer has more layers, but is fundamentally doing the same thing."
      ]
    },
    {
      "cell_type": "code",
      "execution_count": null,
      "metadata": {
        "id": "YNsZSFArBOfM"
      },
      "outputs": [],
      "source": [
        "class Transformer(tf.keras.Model):\n",
        "  def __init__(self, *, num_layers, d_model, num_heads, dff,\n",
        "               input_vocab_size, target_vocab_size, dropout_rate=0.1):\n",
        "    super().__init__()\n",
        "    self.encoder = Encoder(num_layers=num_layers, d_model=d_model,\n",
        "                           num_heads=num_heads, dff=dff,\n",
        "                           vocab_size=input_vocab_size,\n",
        "                           dropout_rate=dropout_rate)\n",
        "\n",
        "    self.decoder = Decoder(num_layers=num_layers, d_model=d_model,\n",
        "                           num_heads=num_heads, dff=dff,\n",
        "                           vocab_size=target_vocab_size,\n",
        "                           dropout_rate=dropout_rate)\n",
        "\n",
        "    self.final_layer = tf.keras.layers.Dense(target_vocab_size)\n",
        "\n",
        "  def call(self, inputs):\n",
        "    # To use a Keras model with `.fit` you must pass all your inputs in the\n",
        "    # first argument.\n",
        "    context, x  = inputs\n",
        "\n",
        "    context = self.encoder(context)  # (batch_size, context_len, d_model)\n",
        "\n",
        "    x = self.decoder(x, context)  # (batch_size, target_len, d_model)\n",
        "\n",
        "    # Final linear layer output.\n",
        "    logits = self.final_layer(x)  # (batch_size, target_len, target_vocab_size)\n",
        "\n",
        "    try:\n",
        "      del logits._keras_mask\n",
        "    except AttributeError:\n",
        "      pass\n",
        "\n",
        "    return logits"
      ]
    },
    {
      "cell_type": "code",
      "execution_count": null,
      "metadata": {
        "id": "b2P4fPI6C_ko"
      },
      "outputs": [],
      "source": [
        "# # Model parameters in original paper\n",
        "# num_layers = 6\n",
        "# d_model = 512\n",
        "# dff = 2048\n",
        "# num_heads = 8\n",
        "# dropout_rate = 0.1\n",
        "\n",
        "# parameters used in this code\n",
        "num_layers = 4\n",
        "d_model = 128\n",
        "dff = 512\n",
        "num_heads = 8\n",
        "dropout_rate = 0.1"
      ]
    },
    {
      "cell_type": "code",
      "execution_count": null,
      "metadata": {
        "id": "NjnQ3As8DKGp"
      },
      "outputs": [],
      "source": [
        "transformer = Transformer(\n",
        "    num_layers=num_layers,\n",
        "    d_model=d_model,\n",
        "    num_heads=num_heads,\n",
        "    dff=dff,\n",
        "    input_vocab_size=context_text_processor.vocabulary_size(),\n",
        "    target_vocab_size=target_text_processor.vocabulary_size(),\n",
        "    dropout_rate=dropout_rate)"
      ]
    },
    {
      "cell_type": "code",
      "execution_count": null,
      "metadata": {
        "colab": {
          "base_uri": "https://localhost:8080/"
        },
        "id": "_HeYHTAoDNA3",
        "outputId": "f518e74c-3faa-4733-a542-e5ce948b8aca"
      },
      "outputs": [
        {
          "name": "stdout",
          "output_type": "stream",
          "text": [
            "(64, 19)\n",
            "(64, 20)\n",
            "(64, 19, 45608)\n"
          ]
        }
      ],
      "source": [
        "output = transformer((en, ar))\n",
        "\n",
        "print(ar.shape)\n",
        "print(en.shape)\n",
        "print(output.shape)"
      ]
    },
    {
      "cell_type": "code",
      "execution_count": null,
      "metadata": {
        "colab": {
          "base_uri": "https://localhost:8080/"
        },
        "id": "0EjFN4dADPWj",
        "outputId": "529bba5a-eba6-4b18-87ad-dc9259ec0aa1"
      },
      "outputs": [
        {
          "name": "stdout",
          "output_type": "stream",
          "text": [
            "(64, 8, 19, 20)\n"
          ]
        }
      ],
      "source": [
        "attn_scores = transformer.decoder.dec_layers[-1].last_attn_scores\n",
        "print(attn_scores.shape)  # (batch, heads, target_seq, input_seq)"
      ]
    },
    {
      "cell_type": "code",
      "execution_count": null,
      "metadata": {
        "colab": {
          "base_uri": "https://localhost:8080/"
        },
        "id": "AWtjhKvYDWdh",
        "outputId": "19c1b39f-e743-4f1b-b98a-cd2dfd8944d8"
      },
      "outputs": [
        {
          "name": "stdout",
          "output_type": "stream",
          "text": [
            "Model: \"transformer\"\n",
            "_________________________________________________________________\n",
            " Layer (type)                Output Shape              Param #   \n",
            "=================================================================\n",
            " encoder_1 (Encoder)         multiple                  5558912   \n",
            "                                                                 \n",
            " decoder_1 (Decoder)         multiple                  10587648  \n",
            "                                                                 \n",
            " dense_38 (Dense)            multiple                  5883432   \n",
            "                                                                 \n",
            "=================================================================\n",
            "Total params: 22,029,992\n",
            "Trainable params: 22,029,992\n",
            "Non-trainable params: 0\n",
            "_________________________________________________________________\n"
          ]
        }
      ],
      "source": [
        "transformer.summary()"
      ]
    },
    {
      "attachments": {},
      "cell_type": "markdown",
      "metadata": {
        "id": "kZo0hvkTmfrf"
      },
      "source": [
        "### Training\n",
        "\n",
        "Optimizer:\n",
        "\n",
        "Use the Adam optimizer with a custom learning rate scheduler according to the formula in the original Transformer paper.\n",
        "\n",
        "$$\n",
        "\\Large{lrate = d_{model}^{-0.5} * \\min(step{\\_}num^{-0.5}, step{\\_}num \\cdot warmup{\\_}steps^{-1.5})}\n",
        "$$"
      ]
    },
    {
      "cell_type": "code",
      "execution_count": null,
      "metadata": {
        "id": "t3pUQ_I8DZ6B"
      },
      "outputs": [],
      "source": [
        "class CustomSchedule(tf.keras.optimizers.schedules.LearningRateSchedule):\n",
        "  def __init__(self, d_model, warmup_steps=4000):\n",
        "    super().__init__()\n",
        "\n",
        "    self.d_model = d_model\n",
        "    self.d_model = tf.cast(self.d_model, tf.float32)\n",
        "\n",
        "    self.warmup_steps = warmup_steps\n",
        "\n",
        "  def __call__(self, step):\n",
        "    step = tf.cast(step, dtype=tf.float32)\n",
        "    arg1 = tf.math.rsqrt(step)\n",
        "    arg2 = step * (self.warmup_steps ** -1.5)\n",
        "\n",
        "    return tf.math.rsqrt(self.d_model) * tf.math.minimum(arg1, arg2)"
      ]
    },
    {
      "cell_type": "code",
      "execution_count": null,
      "metadata": {
        "id": "NcZudiJsDknO"
      },
      "outputs": [],
      "source": [
        "learning_rate = CustomSchedule(d_model)\n",
        "\n",
        "optimizer = tf.keras.optimizers.Adam(learning_rate, beta_1=0.9, beta_2=0.98, epsilon=1e-9)"
      ]
    },
    {
      "cell_type": "code",
      "execution_count": null,
      "metadata": {
        "colab": {
          "base_uri": "https://localhost:8080/",
          "height": 466
        },
        "id": "Z1vgFBZYDm8x",
        "outputId": "6faa4019-ac68-42e0-f828-46c03bbd5be3"
      },
      "outputs": [
        {
          "data": {
            "text/plain": [
              "Text(0.5, 0, 'Train Step')"
            ]
          },
          "execution_count": 49,
          "metadata": {},
          "output_type": "execute_result"
        },
        {
          "data": {
            "image/png": "[encoded data removed]",
            "text/plain": [
              "<Figure size 640x480 with 1 Axes>"
            ]
          },
          "metadata": {},
          "output_type": "display_data"
        }
      ],
      "source": [
        "plt.plot(learning_rate(tf.range(40000, dtype=tf.float32)))\n",
        "plt.ylabel('Learning Rate')\n",
        "plt.xlabel('Train Step')"
      ]
    },
    {
      "attachments": {},
      "cell_type": "markdown",
      "metadata": {
        "id": "bqhc-9zonEun"
      },
      "source": [
        "#### Defining Loss and Accuracy functions\n",
        "\n",
        "Applying a padding mask when calculating the loss because the target sequences are padded."
      ]
    },
    {
      "cell_type": "code",
      "execution_count": null,
      "metadata": {
        "id": "dCrQtt3FDqsA"
      },
      "outputs": [],
      "source": [
        "def masked_loss(label, pred):\n",
        "  mask = label != 0\n",
        "  loss_object = tf.keras.losses.SparseCategoricalCrossentropy(from_logits=True, reduction='none')\n",
        "  loss = loss_object(label, pred)\n",
        "\n",
        "  mask = tf.cast(mask, dtype=loss.dtype)\n",
        "  loss *= mask\n",
        "\n",
        "  loss = tf.reduce_sum(loss)/tf.reduce_sum(mask)\n",
        "  return loss"
      ]
    },
    {
      "cell_type": "code",
      "execution_count": null,
      "metadata": {
        "id": "C9q0uGO7rmiQ"
      },
      "outputs": [],
      "source": [
        "def masked_accuracy(label, pred):\n",
        "  pred = tf.argmax(pred, axis=2)\n",
        "  label = tf.cast(label, pred.dtype)\n",
        "  match = label == pred\n",
        "\n",
        "  mask = label != 0\n",
        "\n",
        "  match = match & mask\n",
        "\n",
        "  match = tf.cast(match, dtype=tf.float32)\n",
        "  mask = tf.cast(mask, dtype=tf.float32)\n",
        "  return tf.reduce_sum(match)/tf.reduce_sum(mask)"
      ]
    },
    {
      "cell_type": "code",
      "execution_count": null,
      "metadata": {
        "id": "CcP3Hdr-DufQ"
      },
      "outputs": [],
      "source": [
        "transformer.compile(loss=masked_loss, optimizer=optimizer, metrics=[masked_accuracy])"
      ]
    },
    {
      "cell_type": "code",
      "execution_count": null,
      "metadata": {
        "colab": {
          "base_uri": "https://localhost:8080/"
        },
        "id": "RzxUgarBDxKH",
        "outputId": "1f119554-b5d0-45f6-ec10-6b0aef39fe07"
      },
      "outputs": [
        {
          "name": "stdout",
          "output_type": "stream",
          "text": [
            "Epoch 1/25\n",
            "294/294 [==============================] - 140s 313ms/step - loss: 10.2095 - masked_accuracy: 0.0612 - val_loss: 9.3646 - val_masked_accuracy: 0.0680\n",
            "Epoch 2/25\n",
            "294/294 [==============================] - 58s 195ms/step - loss: 8.4675 - masked_accuracy: 0.0702 - val_loss: 8.2239 - val_masked_accuracy: 0.0925\n",
            "Epoch 3/25\n",
            "294/294 [==============================] - 52s 176ms/step - loss: 7.7143 - masked_accuracy: 0.1238 - val_loss: 7.9400 - val_masked_accuracy: 0.1367\n",
            "Epoch 4/25\n",
            "294/294 [==============================] - 51s 173ms/step - loss: 7.2257 - masked_accuracy: 0.1600 - val_loss: 7.7803 - val_masked_accuracy: 0.1587\n",
            "Epoch 5/25\n",
            "294/294 [==============================] - 49s 167ms/step - loss: 6.7718 - masked_accuracy: 0.1857 - val_loss: 7.5794 - val_masked_accuracy: 0.1844\n",
            "Epoch 6/25\n",
            "294/294 [==============================] - 49s 166ms/step - loss: 6.3150 - masked_accuracy: 0.2147 - val_loss: 7.4323 - val_masked_accuracy: 0.2017\n",
            "Epoch 7/25\n",
            "294/294 [==============================] - 47s 161ms/step - loss: 5.8449 - masked_accuracy: 0.2431 - val_loss: 7.2199 - val_masked_accuracy: 0.2168\n",
            "Epoch 8/25\n",
            "294/294 [==============================] - 44s 149ms/step - loss: 5.3545 - masked_accuracy: 0.2800 - val_loss: 7.1038 - val_masked_accuracy: 0.2317\n",
            "Epoch 9/25\n",
            "294/294 [==============================] - 48s 164ms/step - loss: 4.8407 - masked_accuracy: 0.3189 - val_loss: 6.9893 - val_masked_accuracy: 0.2467\n",
            "Epoch 10/25\n",
            "294/294 [==============================] - 43s 146ms/step - loss: 4.3164 - masked_accuracy: 0.3648 - val_loss: 7.0780 - val_masked_accuracy: 0.2341\n",
            "Epoch 11/25\n",
            "294/294 [==============================] - 44s 149ms/step - loss: 3.8005 - masked_accuracy: 0.4181 - val_loss: 6.9136 - val_masked_accuracy: 0.2619\n",
            "Epoch 12/25\n",
            "294/294 [==============================] - 43s 148ms/step - loss: 3.3082 - masked_accuracy: 0.4711 - val_loss: 7.1676 - val_masked_accuracy: 0.2567\n",
            "Epoch 13/25\n",
            "294/294 [==============================] - 48s 162ms/step - loss: 2.8654 - masked_accuracy: 0.5193 - val_loss: 7.2283 - val_masked_accuracy: 0.2597\n",
            "Epoch 14/25\n",
            "294/294 [==============================] - 48s 162ms/step - loss: 2.4650 - masked_accuracy: 0.5632 - val_loss: 7.5162 - val_masked_accuracy: 0.2610\n",
            "Epoch 15/25\n",
            "294/294 [==============================] - 49s 166ms/step - loss: 2.0563 - masked_accuracy: 0.6158 - val_loss: 7.7031 - val_masked_accuracy: 0.2601\n",
            "Epoch 16/25\n",
            "294/294 [==============================] - 48s 162ms/step - loss: 1.6841 - masked_accuracy: 0.6713 - val_loss: 8.0250 - val_masked_accuracy: 0.2572\n",
            "Epoch 17/25\n",
            "294/294 [==============================] - 47s 160ms/step - loss: 1.3737 - masked_accuracy: 0.7215 - val_loss: 8.2134 - val_masked_accuracy: 0.2604\n",
            "Epoch 18/25\n",
            "294/294 [==============================] - 43s 145ms/step - loss: 1.1326 - masked_accuracy: 0.7649 - val_loss: 8.4908 - val_masked_accuracy: 0.2647\n",
            "Epoch 19/25\n",
            "294/294 [==============================] - 47s 161ms/step - loss: 0.9489 - masked_accuracy: 0.8005 - val_loss: 8.7370 - val_masked_accuracy: 0.2620\n",
            "Epoch 20/25\n",
            "294/294 [==============================] - 42s 144ms/step - loss: 0.8043 - masked_accuracy: 0.8275 - val_loss: 8.9511 - val_masked_accuracy: 0.2570\n",
            "Epoch 21/25\n",
            "294/294 [==============================] - 47s 160ms/step - loss: 0.7017 - masked_accuracy: 0.8490 - val_loss: 9.0207 - val_masked_accuracy: 0.2597\n",
            "Epoch 22/25\n",
            "294/294 [==============================] - 48s 162ms/step - loss: 0.6326 - masked_accuracy: 0.8631 - val_loss: 9.0859 - val_masked_accuracy: 0.2592\n",
            "Epoch 23/25\n",
            "294/294 [==============================] - 47s 160ms/step - loss: 0.5748 - masked_accuracy: 0.8758 - val_loss: 9.0532 - val_masked_accuracy: 0.2567\n",
            "Epoch 24/25\n",
            "294/294 [==============================] - 47s 161ms/step - loss: 0.5359 - masked_accuracy: 0.8835 - val_loss: 8.9921 - val_masked_accuracy: 0.2581\n",
            "Epoch 25/25\n",
            "294/294 [==============================] - 42s 142ms/step - loss: 0.5066 - masked_accuracy: 0.8924 - val_loss: 8.8874 - val_masked_accuracy: 0.2601\n"
          ]
        }
      ],
      "source": [
        "history = transformer.fit(train_ds, epochs=25, validation_data=val_ds, \n",
        "                          # callbacks = [tf.keras.callbacks.EarlyStopping(patience=5)]\n",
        "                          )"
      ]
    },
    {
      "attachments": {},
      "cell_type": "markdown",
      "metadata": {
        "id": "xGvsqOyVoaif"
      },
      "source": [
        "### Inference"
      ]
    },
    {
      "cell_type": "code",
      "execution_count": null,
      "metadata": {
        "id": "HrrY7YsVEjv9"
      },
      "outputs": [],
      "source": [
        "class Translator(tf.Module):\n",
        "  def __init__(self, target_text_processor, context_text_processor, transformer):\n",
        "    self.transformer = transformer\n",
        "    # target text processor\n",
        "    self.target_text_processor = target_text_processor\n",
        "    self.context_text_processor = context_text_processor\n",
        "    self.vocab_size = self.target_text_processor.vocabulary_size()\n",
        "    self.word_to_id = tf.keras.layers.StringLookup(vocabulary = self.target_text_processor.get_vocabulary(), mask_token='', oov_token='[UNK]')\n",
        "    self.id_to_word = tf.keras.layers.StringLookup(vocabulary = self.target_text_processor.get_vocabulary(), mask_token='', oov_token='[UNK]', invert=True)\n",
        "    self.start_token = self.word_to_id('[START]')[tf.newaxis]\n",
        "    self.end_token = self.word_to_id('[END]')[tf.newaxis]\n",
        "\n",
        "  \n",
        "  def tokens_to_text(self, tokens):\n",
        "    words = self.id_to_word(tokens)\n",
        "    result = tf.strings.reduce_join(words, axis=-1, separator=' ')\n",
        "    result = tf.strings.regex_replace(result, '^ *\\[START\\] *', '')\n",
        "    result = tf.strings.regex_replace(result, ' *\\[END\\] *$', '')\n",
        "    return result\n",
        "    \n",
        "  def __call__(self, sentence, max_length=128):\n",
        "    # The input sentence is English, hence adding the `[START]` and `[END]` tokens.\n",
        "    assert isinstance(sentence, tf.Tensor)\n",
        "    if len(sentence.shape) == 0:\n",
        "      sentence = sentence[tf.newaxis]\n",
        "\n",
        "    # tokenizing the sentence and converting it ti tokens ID\n",
        "    sentence = self.context_text_processor(sentence)\n",
        "\n",
        "    encoder_input = sentence\n",
        "\n",
        "    # output_array which will hold the predicted tokens ID\n",
        "    output_array = tf.TensorArray(dtype=tf.int64, size=0, dynamic_size=True)\n",
        "    output_array = output_array.write(0, self.start_token)\n",
        "\n",
        "    for i in tf.range(max_length):\n",
        "      # getting the predicted tokens so far\n",
        "      output = tf.transpose(output_array.stack())\n",
        "      # getting the new prediction\n",
        "      predictions = self.transformer([encoder_input, output], training=False)\n",
        "\n",
        "      # Select the last token.\n",
        "      predictions = predictions[:, -1:, :]  # Shape `(batch_size, 1, vocab_size)`.\n",
        "\n",
        "      predicted_id = tf.argmax(predictions, axis=-1)\n",
        "\n",
        "      # Concatenate the `predicted_id` to the output which is given to the decoder as its input.\n",
        "      output_array = output_array.write(i+1, predicted_id[0])\n",
        "\n",
        "      if predicted_id == self.end_token:\n",
        "        break\n",
        "\n",
        "    output = tf.transpose(output_array.stack())\n",
        "    result = self.tokens_to_text(output)[0]\n",
        "\n",
        "    self.transformer([encoder_input, output[:,:-1]], training=False)\n",
        "    attention_weights = self.transformer.decoder.last_attn_scores\n",
        "\n",
        "    return result, attention_weights"
      ]
    },
    {
      "cell_type": "code",
      "execution_count": null,
      "metadata": {
        "id": "3smb_iDNFJMl"
      },
      "outputs": [],
      "source": [
        "translator = Translator(target_text_processor, context_text_processor, transformer)"
      ]
    },
    {
      "cell_type": "code",
      "execution_count": null,
      "metadata": {
        "id": "VuCMlToyFL0l"
      },
      "outputs": [],
      "source": [
        "def print_translation(sentence, tokens, ground_truth):\n",
        "  print(f'{\"Input:\":15s}: {sentence}')\n",
        "  print(f'{\"Prediction\":15s}: {tokens.numpy().decode(\"utf-8\")}')\n",
        "  print(f'{\"Ground truth\":15s}: {ground_truth}')"
      ]
    },
    {
      "attachments": {},
      "cell_type": "markdown",
      "metadata": {
        "id": "8aJa6PiyvAQx"
      },
      "source": [
        "### BLUE SCORE"
      ]
    },
    {
      "cell_type": "code",
      "execution_count": null,
      "metadata": {
        "id": "OXP62Yopu_5X"
      },
      "outputs": [],
      "source": [
        "### STEP 1: Computing the Brevity Penalty\n",
        "def brevity_penalty(reference, candidate):\n",
        "    ref_length = len(reference)\n",
        "    can_length = len(candidate)\n",
        "\n",
        "    # Brevity Penalty\n",
        "    if ref_length > can_length:\n",
        "        BP = 1\n",
        "    else:\n",
        "        penalty = 1 - (ref_length / can_length)\n",
        "        BP = np.exp(penalty)\n",
        "\n",
        "    return BP\n",
        "\n",
        "### STEP 2: Computing the Precision\n",
        "def clipped_precision(reference, candidate):\n",
        "score function given a original and a machine translated sentences\n",
        "\n",
        "    clipped_precision_score = []\n",
        "\n",
        "    for i in range(1, 5):\n",
        "        candidate_n_gram = Counter(ngrams(candidate, i))  # counts of tokens for the candidate\n",
        "        reference_n_gram = Counter(ngrams(reference, i))  # counts of tokens for the reference\n",
        "\n",
        "        c = sum(reference_n_gram.values())  # sum of the values of the reference the denominator in the precision formula\n",
        "\n",
        "        for j in reference_n_gram:  # for every n_gram token in the reference\n",
        "            if j in candidate_n_gram:  # check if it is in the candidate n-gram\n",
        "\n",
        "                if (reference_n_gram[j] > candidate_n_gram[j]):  # if the count of the reference n-gram is bigger\n",
        "                    # than the corresponding count in the candidate n-gram\n",
        "                    reference_n_gram[j] = candidate_n_gram[j]  # then set the count of the reference n-gram to be equal\n",
        "                    # to the count of the candidate n-gram\n",
        "            else:\n",
        "                reference_n_gram[j] = 0  # else reference n-gram = 0\n",
        "\n",
        "        clipped_precision_score.append(sum(reference_n_gram.values()) / c)\n",
        "\n",
        "    weights = [0.25] * 4\n",
        "\n",
        "    s = (w_i * np.log(p_i) for w_i, p_i in zip(weights, clipped_precision_score))\n",
        "    s = np.exp(np.sum(s))\n",
        "    return s\n",
        "\n",
        "### STEP 3: Computing the BLEU score\n",
        "def bleu_score(reference, candidate):\n",
        "    BP = brevity_penalty(reference, candidate)\n",
        "    precision = clipped_precision(reference, candidate)\n",
        "    return BP * precision"
      ]
    },
    {
      "cell_type": "code",
      "execution_count": null,
      "metadata": {
        "colab": {
          "base_uri": "https://localhost:8080/"
        },
        "id": "tTep7azOFPdy",
        "outputId": "79be028b-908f-474f-f8cf-d7b6fa197ed5"
      },
      "outputs": [
        {
          "name": "stdout",
          "output_type": "stream",
          "text": [
            "Input:         : This castle is amazing\n",
            "Prediction     : هذه القلعة رايعة .\n",
            "Ground truth   : هذه القلعة مدهشة\n"
          ]
        }
      ],
      "source": [
        "sentence = \"This castle is amazing\"\n",
        "ground_truth = \"هذه القلعة مدهشة\"\n",
        "\n",
        "translated_text, attention_weights = translator(tf.constant(sentence))\n",
        "print_translation(sentence, translated_text, ground_truth)"
      ]
    },
    {
      "cell_type": "code",
      "execution_count": null,
      "metadata": {
        "colab": {
          "base_uri": "https://localhost:8080/"
        },
        "id": "uFJuBIPWvmpX",
        "outputId": "ccaedda4-4d72-4ed7-cc75-78e7f8fa0d51"
      },
      "outputs": [
        {
          "name": "stdout",
          "output_type": "stream",
          "text": [
            "Results reference versus candidate 1 our own code BLEU:  74.5\n"
          ]
        }
      ],
      "source": [
        "print(\"BLUE Score: \",round(bleu_score(ground_truth, translated_text.numpy().decode()) * 100, 1),)"
      ]
    },
    {
      "cell_type": "code",
      "execution_count": null,
      "metadata": {
        "colab": {
          "base_uri": "https://localhost:8080/"
        },
        "id": "iuJnA5cUFVC0",
        "outputId": "bbff507c-5383-45c5-adf6-44e8b6ceef9e"
      },
      "outputs": [
        {
          "name": "stdout",
          "output_type": "stream",
          "text": [
            "Input:         : I'm not thirsty\n",
            "Prediction     : لا اشعر بالعطش .\n",
            "Ground truth   : انا لا اشعر بالعطش .\n"
          ]
        }
      ],
      "source": [
        "sentence = \"I'm not thirsty\"\n",
        "ground_truth = \"انا لا اشعر بالعطش .\"\n",
        "\n",
        "translated_text, attention_weights = translator(tf.constant(sentence))\n",
        "print_translation(sentence, translated_text, ground_truth)"
      ]
    },
    {
      "cell_type": "code",
      "execution_count": null,
      "metadata": {
        "colab": {
          "base_uri": "https://localhost:8080/"
        },
        "id": "MU5rNK8ZphCk",
        "outputId": "c6090e46-22ec-44cd-dd6c-e5c119343ef0"
      },
      "outputs": [
        {
          "name": "stdout",
          "output_type": "stream",
          "text": [
            "BLUE Score:  78.3\n"
          ]
        }
      ],
      "source": [
        "print(\"BLUE Score: \",round(bleu_score(ground_truth, translated_text.numpy().decode()) * 100, 1),)"
      ]
    },
    {
      "cell_type": "code",
      "execution_count": null,
      "metadata": {
        "colab": {
          "base_uri": "https://localhost:8080/"
        },
        "id": "b9wajrC6q_LC",
        "outputId": "e2fb9b34-9764-46d8-e59d-44a7468ddb19"
      },
      "outputs": [
        {
          "name": "stdout",
          "output_type": "stream",
          "text": [
            "Input:         : oman d interviews hani macki an omani documentary photographer.\n",
            "Prediction     : عمان دي انكليزي يجري مقابلة مع المصور الوثايقي هاني مكي هنا\n",
            "Ground truth   : عمان دي انكليزي يجري مقابلة مع المصور الوثايقي هاني مكي هنا\n"
          ]
        }
      ],
      "source": [
        "sentence = context_raw[1000]\n",
        "ground_truth = target_raw[1000]\n",
        "\n",
        "translated_text, attention_weights = translator(tf.constant(sentence))\n",
        "print_translation(sentence, translated_text, ground_truth)"
      ]
    },
    {
      "cell_type": "code",
      "execution_count": null,
      "metadata": {
        "colab": {
          "base_uri": "https://localhost:8080/"
        },
        "id": "RuOQRn3krMCN",
        "outputId": "79dca7be-a2b1-400f-f877-066555dcf0bc"
      },
      "outputs": [
        {
          "name": "stdout",
          "output_type": "stream",
          "text": [
            "BLUE Score:  100.0\n"
          ]
        }
      ],
      "source": [
        "print(\"BLUE Score: \",round(bleu_score(ground_truth, translated_text.numpy().decode()) * 100, 1),)"
      ]
    },
    {
      "attachments": {},
      "cell_type": "markdown",
      "metadata": {
        "id": "nslb-xeBLjo1"
      },
      "source": [
        "### Saving the model"
      ]
    },
    {
      "cell_type": "code",
      "execution_count": null,
      "metadata": {
        "id": "h_M7_CH7KggX"
      },
      "outputs": [],
      "source": [
        "class Export(tf.Module):\n",
        "  def __init__(self, translator):\n",
        "    self.translator = translator\n",
        "\n",
        "  @tf.function(input_signature=[tf.TensorSpec(shape=[], dtype=tf.string)])\n",
        "  def __call__(self, sentence):\n",
        "    (result, attention_weights) = self.translator(sentence, max_length=128)\n",
        "\n",
        "    return result"
      ]
    },
    {
      "cell_type": "code",
      "execution_count": null,
      "metadata": {
        "id": "Agisdem6LrV3"
      },
      "outputs": [],
      "source": [
        "export = Export(translator)"
      ]
    },
    {
      "cell_type": "code",
      "execution_count": null,
      "metadata": {
        "colab": {
          "base_uri": "https://localhost:8080/"
        },
        "id": "wkyULk_rMHbH",
        "outputId": "1fb17c8c-420f-40ed-8acf-99cd6f364f7f"
      },
      "outputs": [
        {
          "name": "stderr",
          "output_type": "stream",
          "text": [
            "WARNING:absl:Found untraced functions such as positional_embedding_4_layer_call_fn, positional_embedding_4_layer_call_and_return_conditional_losses, dropout_35_layer_call_fn, dropout_35_layer_call_and_return_conditional_losses, positional_embedding_5_layer_call_fn while saving (showing 5 of 316). These functions will not be directly callable after loading.\n"
          ]
        }
      ],
      "source": [
        "tf.saved_model.save(export, export_dir='English_Arabic_Translator')"
      ]
    },
    {
      "cell_type": "code",
      "execution_count": null,
      "metadata": {
        "id": "u-X-ZoTKMKgz"
      },
      "outputs": [],
      "source": [
        "reloaded = tf.saved_model.load('English_Arabic_Translator')"
      ]
    },
    {
      "cell_type": "code",
      "execution_count": null,
      "metadata": {
        "colab": {
          "base_uri": "https://localhost:8080/",
          "height": 35
        },
        "id": "Wq6sFY0-db4D",
        "outputId": "d09873a1-d4c1-4433-8559-8329da22eadf"
      },
      "outputs": [
        {
          "data": {
            "application/vnd.google.colaboratory.intrinsic+json": {
              "type": "string"
            },
            "text/plain": [
              "'هذه القلعة رايعة .'"
            ]
          },
          "execution_count": 77,
          "metadata": {},
          "output_type": "execute_result"
        }
      ],
      "source": [
        "reloaded('This castle is amazing').numpy().decode()"
      ]
    },
    {
      "cell_type": "code",
      "execution_count": null,
      "metadata": {
        "colab": {
          "base_uri": "https://localhost:8080/",
          "height": 35
        },
        "id": "Gjet-9V3bc-s",
        "outputId": "7dd068e0-eb53-42b7-91c4-c9bac1cea5b8"
      },
      "outputs": [
        {
          "data": {
            "application/vnd.google.colaboratory.intrinsic+json": {
              "type": "string"
            },
            "text/plain": [
              "'/content/English_Arabic_Translator.zip'"
            ]
          },
          "execution_count": 79,
          "metadata": {},
          "output_type": "execute_result"
        }
      ],
      "source": [
        "# downloading the model\n",
        "import shutil\n",
        "folder_path = '/content/English_Arabic_Translator'\n",
        "\n",
        "# Creating a zip file of the folder\n",
        "shutil.make_archive('/content/English_Arabic_Translator', 'zip', folder_path)\n",
        "\n",
        "# Downloading the zip file\n",
        "from google.colab import files\n",
        "files.download('/content/English_Arabic_Translator.zip')"
      ]
    },
    {
      "cell_type": "code",
      "execution_count": null,
      "metadata": {
        "id": "qSwHQJlt_KrE"
      },
      "outputs": [],
      "source": []
    }
  ],
  "metadata": {
    "accelerator": "GPU",
    "colab": {
      "gpuType": "T4",
      "provenance": []
    },
    "gpuClass": "standard",
    "kernelspec": {
      "display_name": "Python 3",
      "name": "python3"
    },
    "language_info": {
      "name": "python"
    }
  },
  "nbformat": 4,
  "nbformat_minor": 0
}
