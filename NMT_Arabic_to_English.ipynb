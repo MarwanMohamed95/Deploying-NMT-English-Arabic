{
  "cells": [
    {
      "attachments": {},
      "cell_type": "markdown",
      "metadata": {
        "id": "smkGO_HXwSm5"
      },
      "source": [
        "# **Neural Machine Translation**\n",
        "\n",
        "This tutorial demonstrates how to train a sequence-to-sequence (seq2seq) model for Arabic to English translation using [Transformer](https://arxiv.org/abs/1706.03762)"
      ]
    },
    {
      "cell_type": "code",
      "execution_count": null,
      "metadata": {
        "id": "i277bqzzNZoh"
      },
      "outputs": [],
      "source": [
        "%%capture\n",
        "!pip install \"tensorflow==2.10.0\"\n",
        "!pip install \"tensorflow-text==2.10.0\""
      ]
    },
    {
      "cell_type": "code",
      "execution_count": null,
      "metadata": {
        "colab": {
          "base_uri": "https://localhost:8080/"
        },
        "id": "fNBa6B0OLjK3",
        "outputId": "aed0078a-a83a-4170-fdc1-3d41ae387c28"
      },
      "outputs": [
        {
          "name": "stdout",
          "output_type": "stream",
          "text": [
            "2.10.0\n",
            "2.10.0\n"
          ]
        }
      ],
      "source": [
        "import numpy as np\n",
        "import pandas as pd\n",
        "import matplotlib.pyplot as plt\n",
        "\n",
        "import tensorflow_text as tf_text\n",
        "import tensorflow as tf\n",
        "\n",
        "from nltk.util import ngrams\n",
        "from collections import Counter\n",
        "import warnings\n",
        "warnings.filterwarnings(\"ignore\")\n",
        "print(tf.__version__)\n",
        "print(tf_text.__version__)"
      ]
    },
    {
      "attachments": {},
      "cell_type": "markdown",
      "metadata": {
        "id": "Z-CtAP2Lwyh4"
      },
      "source": [
        "### Loading the data"
      ]
    },
    {
      "cell_type": "code",
      "execution_count": null,
      "metadata": {
        "id": "dAQMQXDWLjHw"
      },
      "outputs": [],
      "source": [
        "# reading the data\n",
        "def load_data(path):\n",
        "  # reading the data\n",
        "  pairs = pd.read_csv(path).values\n",
        "\n",
        "  # input and label arrays\n",
        "  context = pairs[:,1]\n",
        "  target = pairs[:,0]\n",
        "\n",
        "  return context, target "
      ]
    },
    {
      "cell_type": "code",
      "execution_count": null,
      "metadata": {
        "id": "mdj-dvVPLjEU"
      },
      "outputs": [],
      "source": [
        "%%capture\n",
        "!git clone https://github.com/MarwanMohamed95/English-Arabic-NMT"
      ]
    },
    {
      "cell_type": "code",
      "execution_count": null,
      "metadata": {
        "colab": {
          "base_uri": "https://localhost:8080/"
        },
        "id": "G3p4-3U2lFDc",
        "outputId": "cae7cdb6-d567-48cb-dba6-5709796b1ab7"
      },
      "outputs": [
        {
          "name": "stdout",
          "output_type": "stream",
          "text": [
            "Number of Samples:  23406\n"
          ]
        }
      ],
      "source": [
        "path_to_file = '/content/English-Arabic-NMT/translation_train.csv'\n",
        "context_raw, target_raw = load_data(path_to_file)\n",
        "print(\"Number of Samples: \",len(context_raw))"
      ]
    },
    {
      "cell_type": "code",
      "execution_count": null,
      "metadata": {
        "colab": {
          "base_uri": "https://localhost:8080/",
          "height": 35
        },
        "id": "TylQdw68w4xD",
        "outputId": "1fc13de6-cf25-4430-d868-ffa991fdd39c"
      },
      "outputs": [
        {
          "data": {
            "application/vnd.google.colaboratory.intrinsic+json": {
              "type": "string"
            },
            "text/plain": [
              "'أنا ولد.'"
            ]
          },
          "execution_count": 6,
          "metadata": {},
          "output_type": "execute_result"
        }
      ],
      "source": [
        "context_raw[-1]"
      ]
    },
    {
      "cell_type": "code",
      "execution_count": null,
      "metadata": {
        "colab": {
          "base_uri": "https://localhost:8080/",
          "height": 35
        },
        "id": "6YVvnOFNw_1t",
        "outputId": "cf0d719c-14fb-4582-f1fa-73cfcf3a1bd3"
      },
      "outputs": [
        {
          "data": {
            "application/vnd.google.colaboratory.intrinsic+json": {
              "type": "string"
            },
            "text/plain": [
              "'I am a boy.'"
            ]
          },
          "execution_count": 7,
          "metadata": {},
          "output_type": "execute_result"
        }
      ],
      "source": [
        "target_raw[-1]"
      ]
    },
    {
      "cell_type": "code",
      "execution_count": null,
      "metadata": {
        "id": "fb6bGph8Li8M"
      },
      "outputs": [],
      "source": [
        "# Creating a tf.data dataset of the strings that shuffles and batches\n",
        "BUFFER_SIZE = len(context_raw)\n",
        "BATCH_SIZE = 64\n",
        "\n",
        "is_train = np.random.uniform(size=(len(target_raw),)) < 0.8\n",
        "\n",
        "train_raw = (tf.data.Dataset.from_tensor_slices((context_raw[is_train], target_raw[is_train])).shuffle(BUFFER_SIZE).batch(BATCH_SIZE))\n",
        "val_raw = (tf.data.Dataset.from_tensor_slices((context_raw[~is_train], target_raw[~is_train])).shuffle(BUFFER_SIZE).batch(BATCH_SIZE))"
      ]
    },
    {
      "cell_type": "code",
      "execution_count": null,
      "metadata": {
        "colab": {
          "base_uri": "https://localhost:8080/"
        },
        "id": "iZGD5BGdzNYe",
        "outputId": "9b3214b4-c125-432e-c8e6-2e69c5bcecc0"
      },
      "outputs": [
        {
          "name": "stdout",
          "output_type": "stream",
          "text": [
            "> Examples in English:\n",
            "ولم افهم حتى الان ما قصده تا نيهيسي كواتس حين كتب عن الجسد الاسود في الولايات المتحدة واظن ان قصته تنطبق على الجسد العربي ايضا وعلى جسد الاميركيين الاصليين وجسد الاميركيين الاتينيين وجسد الشعوب الاصلية وجسد الهنود وجسد الاكراد وجسد الباكستانيين وجسد الصينيين والكثير من الاجساد الاخرى\n",
            "في سوريا يوظف مناصرو النظام الفن كاداة للحرب الاصوات العالمية\n",
            "بيروت سبرينغ انكليزي يشير الى النقطة التالية في كل مرة تـظهر الادارة الاميركية ادارة بوش دعمها لمرشح في اي انتخابات حرة في الشرق الاوسط يخسر هذا المرشح لذا ينتقل لمساءلة الحكمة من وراء قرار سعد الحريري زيارة الرييس بوش في الولايات المتحدة الاميركية قريبا في اجتماعه مع الرييس بوش يتوقع ان يناقش الحريري زعيم الاغلبية النيابية الانتخابات الرياسية القادمة\n",
            "لا أريد البكاء أمام توم.\n",
            "المشاركون في حفل تقديم الجوايز لمسابقة ويكي تحب الارض للقسم الاوكراني في المتحف الوطني للعلوم الطبيعية في كييف يوم ٧ اكتوبر تشرين الاول ٢٠١٧ الصورة لانا كوندراتوك من ويكيميديا كومونز\n",
            "\n",
            "> Examples in Arabic:\n",
            "never so clearly as now have i understood what ta nehisi coates wrote about when he spoke of the black body in america i think there is a story to be told of the arab body as well the native american body the indigenous body the latin american body the indian body the kurdish body the pakistani body the chinese body and so many other bodies.\n",
            "in syria regime loyalists use art as a tool of war global voices.\n",
            "beirut spring points out how every time the u s bush s administration shows its support for a candidate in any free elections in the middle east that candidate loses then he moves on to question the wisdom of saad hariri s forthcoming visit and meeting with president bush in the united states hariri the head of the largest parliamentary bloc is expected to discuss the upcoming presidential elections with president bush during their meeting.\n",
            "I didn't want to cry in front of Tom.\n",
            "participants in the award ceremony for ukrainian portion the wiki loves earth competition in the national museum of natural sciences in kiev october photo by anna kondratyuk via wikimedia commons cc by sa.\n"
          ]
        }
      ],
      "source": [
        "for en_examples, ar_examples in train_raw.take(1):\n",
        "  print('> Examples in English:')\n",
        "  for sp in en_examples[:5]:\n",
        "    print(sp.numpy().decode('utf-8'))\n",
        "  print()\n",
        "\n",
        "  print('> Examples in Arabic:')\n",
        "  for en in ar_examples[:5]:\n",
        "    print(en.numpy().decode('utf-8'))"
      ]
    },
    {
      "cell_type": "code",
      "execution_count": null,
      "metadata": {
        "id": "0PMq44x8Li1e"
      },
      "outputs": [],
      "source": [
        "# standardizing and processing the text\n",
        "def english_processing(text):\n",
        "  # Split accented characters.\n",
        "  text = tf_text.normalize_utf8(text, 'NFKD')\n",
        "  text = tf.strings.lower(text)\n",
        "  # Keep space, a to z, and select punctuation.\n",
        "  text = tf.strings.regex_replace(text, '[^ a-z.?!,]', '')\n",
        "  # Add spaces around punctuation.\n",
        "  text = tf.strings.regex_replace(text, '[.?!,]', r' \\0 ')\n",
        "  # Strip whitespace.\n",
        "  text = tf.strings.strip(text)\n",
        "  # prepend and append START and END tokens to each sentence in the context and target\n",
        "  text = tf.strings.join(['[START]', text, '[END]'], separator=' ')\n",
        "  return text"
      ]
    },
    {
      "cell_type": "code",
      "execution_count": null,
      "metadata": {
        "id": "WN5nyE0JW-nR"
      },
      "outputs": [],
      "source": [
        "# standardizing and processing the text\n",
        "def arabic_processing(text):\n",
        "  # Split accented characters.\n",
        "  text = tf_text.normalize_utf8(text, 'NFKD')\n",
        "  # Keep space, a to z, and select punctuation.\n",
        "  text = tf.strings.regex_replace(text, '[^ ا-ي.?!,]', '')\n",
        "  # Add spaces around punctuation.\n",
        "  text = tf.strings.regex_replace(text, '[.?!,]', r' \\0 ')\n",
        "  # Strip whitespace.\n",
        "  text = tf.strings.strip(text)\n",
        "  # prepend and append START and END tokens to each sentence in the context and target\n",
        "  text = tf.strings.join(['[START]', text, '[END]'], separator=' ')\n",
        "  return text"
      ]
    },
    {
      "cell_type": "code",
      "execution_count": null,
      "metadata": {
        "colab": {
          "base_uri": "https://localhost:8080/"
        },
        "id": "yMGed4dzsaa5",
        "outputId": "02e43bfb-d2a3-407e-955b-878d8e855a87"
      },
      "outputs": [
        {
          "name": "stdout",
          "output_type": "stream",
          "text": [
            "إن ذلك يغيظني حقاً.\n",
            "[START] ان ذلك يغيظني حقا . [END]\n"
          ]
        }
      ],
      "source": [
        "example_text = tf.constant('إن ذلك يغيظني حقاً.')\n",
        "print(example_text.numpy().decode())\n",
        "print(arabic_processing(example_text).numpy().decode())"
      ]
    },
    {
      "attachments": {},
      "cell_type": "markdown",
      "metadata": {
        "id": "lhIAuU9PxYQY"
      },
      "source": [
        "This standardization function will be wrapped up in a tf.keras.layers.TextVectorization layer which will handle the vocabulary extraction and conversion of input text to sequences of tokens."
      ]
    },
    {
      "cell_type": "code",
      "execution_count": null,
      "metadata": {
        "colab": {
          "base_uri": "https://localhost:8080/"
        },
        "id": "tGXf8CkaLikc",
        "outputId": "c56aaea5-d1a2-4f7f-aa28-8e7df8c76644"
      },
      "outputs": [
        {
          "data": {
            "text/plain": [
              "['', '[UNK]', '[START]', '[END]', 'في', 'من', '.', 'على', 'ان', 'عن']"
            ]
          },
          "execution_count": 13,
          "metadata": {},
          "output_type": "execute_result"
        }
      ],
      "source": [
        "max_vocab_size = 60000\n",
        "max_sequence_length = 30\n",
        "\n",
        "# the English TextVectorization\n",
        "context_text_processor = tf.keras.layers.TextVectorization(standardize=arabic_processing, \n",
        "                                                           max_tokens=max_vocab_size, \n",
        "                                                           output_sequence_length=max_sequence_length)\n",
        "# This adapt method initializes the layer based on the data.\n",
        "context_text_processor.adapt(train_raw.map(lambda context, target: context))\n",
        "\n",
        "# The first 10 words from context the vocabulary\n",
        "context_text_processor.get_vocabulary()[:10]"
      ]
    },
    {
      "cell_type": "code",
      "execution_count": null,
      "metadata": {
        "colab": {
          "base_uri": "https://localhost:8080/"
        },
        "id": "noPrT9ILMchP",
        "outputId": "ef32c028-f7bb-4791-b86d-9caca13e3d1c"
      },
      "outputs": [
        {
          "data": {
            "text/plain": [
              "['', '[UNK]', '[START]', '[END]', 'the', '.', 'of', 'to', 'in', 'and']"
            ]
          },
          "execution_count": 14,
          "metadata": {},
          "output_type": "execute_result"
        }
      ],
      "source": [
        "# the Arabic TextVectorization\n",
        "target_text_processor = tf.keras.layers.TextVectorization(standardize=english_processing, \n",
        "                                                          max_tokens=max_vocab_size, \n",
        "                                                          output_sequence_length=max_sequence_length)\n",
        "# This adapt method initializes the layer based on the data.\n",
        "target_text_processor.adapt(train_raw.map(lambda context, target: target))\n",
        "\n",
        "# The first 10 words from target the vocabulary\n",
        "target_text_processor.get_vocabulary()[:10]"
      ]
    },
    {
      "cell_type": "code",
      "execution_count": null,
      "metadata": {
        "colab": {
          "base_uri": "https://localhost:8080/"
        },
        "id": "lnah8fszxmLY",
        "outputId": "1fad8759-0a9d-44e8-c9cb-e0857d9e3d43"
      },
      "outputs": [
        {
          "data": {
            "text/plain": [
              "<tf.Tensor: shape=(3, 30), dtype=int64, numpy=\n",
              "array([[    2,   240,    91,  2525,    27,    88,    28,    13,  2016,\n",
              "           44,  9283, 16232, 20932,   333,    37,    72,    30,  1624,\n",
              "            6,     4,   623,  1023,     8,   414,    13,   161,    61,\n",
              "           11,    10,   190],\n",
              "       [    2,     8,   139,   329,  8023,   170,   362,    27,    10,\n",
              "         1182,     6,   206,    21,    22,     5,     3,     0,     0,\n",
              "            0,     0,     0,     0,     0,     0,     0,     0,     0,\n",
              "            0,     0,     0],\n",
              "       [    2,  1209,   958,  1116,    81,    59,   217,    87,     4,\n",
              "          653,    17,  2687,    17,  1615,   477,    63,   199,    14,\n",
              "           10,  1673,     8,   149,   195,   457,     8,     4,   536,\n",
              "          514,    15,  1673]])>"
            ]
          },
          "execution_count": 15,
          "metadata": {},
          "output_type": "execute_result"
        }
      ],
      "source": [
        "example_tokens = target_text_processor(ar_examples)\n",
        "example_tokens[:3, :]"
      ]
    },
    {
      "cell_type": "code",
      "execution_count": null,
      "metadata": {
        "colab": {
          "base_uri": "https://localhost:8080/",
          "height": 53
        },
        "id": "eQWRv-PTxn1V",
        "outputId": "a41c4674-c785-4167-aea2-7546d1007371"
      },
      "outputs": [
        {
          "data": {
            "application/vnd.google.colaboratory.intrinsic+json": {
              "type": "string"
            },
            "text/plain": [
              "'[START] never so clearly as now have i understood what ta nehisi coates wrote about when he spoke of the black body in america i think there is a story'"
            ]
          },
          "execution_count": 16,
          "metadata": {},
          "output_type": "execute_result"
        }
      ],
      "source": [
        "target_vocab = np.array(target_text_processor.get_vocabulary())\n",
        "tokens = target_vocab[example_tokens[0].numpy()]\n",
        "' '.join(tokens)"
      ]
    },
    {
      "cell_type": "code",
      "execution_count": null,
      "metadata": {
        "id": "mkiMoYTLMipM"
      },
      "outputs": [],
      "source": [
        "# The process_text function below converts from a (context, target) pair to an ((context, target_in), target_out) pair for training with keras.Model.fit.\n",
        "# The difference between target_in and target_out is that they are shifted by one step relative to eachother,\n",
        "# so that at each location the label is the next token.\n",
        "def process_text(context, target):\n",
        "  # convert the context strings tensors of token IDs.\n",
        "  context = context_text_processor(context)\n",
        "  # convert the target strings tensors of token IDs.\n",
        "  target = target_text_processor(target)\n",
        "  # 0-padded target tensors of token IDs except the last token\n",
        "  targ_in = target[:,:-1]\n",
        "  # 0-padded target tensors of token IDs shifted by one step relative to targ_in\n",
        "  targ_out = target[:,1:]\n",
        "  return (context, targ_in), targ_out\n",
        "\n",
        "\n",
        "train_ds = train_raw.map(process_text, tf.data.AUTOTUNE)\n",
        "val_ds = val_raw.map(process_text, tf.data.AUTOTUNE)"
      ]
    },
    {
      "cell_type": "code",
      "execution_count": null,
      "metadata": {
        "colab": {
          "base_uri": "https://localhost:8080/"
        },
        "id": "n5SiOIJnxxMl",
        "outputId": "1f13ba74-177c-486c-e184-a35653fe2dac"
      },
      "outputs": [
        {
          "name": "stdout",
          "output_type": "stream",
          "text": [
            "[    2    39   337  5056  5842  1873     5   772 13574    12    10     3\n",
            "     0     0     0     0     0     0     0     0     0     0     0     0\n",
            "     0     0     0     0     0     0]\n",
            "\n",
            "[    2   197    68 11962   297    83   951  2087    21    22     5     3\n",
            "     0     0     0     0     0     0     0     0     0     0     0     0\n",
            "     0     0     0     0     0]\n",
            "[  197    68 11962   297    83   951  2087    21    22     5     3     0\n",
            "     0     0     0     0     0     0     0     0     0     0     0     0\n",
            "     0     0     0     0     0]\n"
          ]
        }
      ],
      "source": [
        "for (context_tokens, target_tokens_in), target_tokens_out in train_ds.take(1):\n",
        "  print(context_tokens[0].numpy()) \n",
        "  print()\n",
        "  print(target_tokens_in[0].numpy()) \n",
        "  print(target_tokens_out[0].numpy())"
      ]
    },
    {
      "cell_type": "code",
      "execution_count": null,
      "metadata": {
        "colab": {
          "base_uri": "https://localhost:8080/"
        },
        "id": "y6HTMQTHWyFt",
        "outputId": "7191c6d9-d9fa-4705-bf4d-9bebf640c82a"
      },
      "outputs": [
        {
          "name": "stdout",
          "output_type": "stream",
          "text": [
            "(64, 30)\n",
            "(64, 29)\n",
            "(64, 29)\n"
          ]
        }
      ],
      "source": [
        "for (ar, en), en_labels in train_ds.take(1):\n",
        "  break\n",
        "\n",
        "print(ar.shape)\n",
        "print(en.shape)\n",
        "print(en_labels.shape)"
      ]
    },
    {
      "attachments": {},
      "cell_type": "markdown",
      "metadata": {
        "id": "oX9lt9bq33tf"
      },
      "source": [
        "### Defining the components"
      ]
    },
    {
      "attachments": {},
      "cell_type": "markdown",
      "metadata": {
        "id": "J_ZgP0gZ4jr9"
      },
      "source": [
        "![](https://github.com/MarwanMohamed95/Neural-Machine-Translation-with-Transformer/blob/main/transformer.png?raw=true)"
      ]
    },
    {
      "attachments": {},
      "cell_type": "markdown",
      "metadata": {
        "id": "y48KWgPo6tXh"
      },
      "source": [
        "#### The embedding and positional encoding layer"
      ]
    },
    {
      "attachments": {},
      "cell_type": "markdown",
      "metadata": {
        "id": "EnQ-zKow6x00"
      },
      "source": [
        "The inputs to both the encoder and decoder use the same embedding and positional encoding logic.\n",
        "\n",
        "A Transformer adds a \"Positional Encoding\" to the embedding vectors. It uses a set of sines and cosines at different frequencies (across the sequence). By definition nearby elements will have similar position encodings.\n",
        "\n",
        "The formula for calculating the positional encoding (implemented in Python below) is as follows:\n",
        "\n",
        "$$\n",
        "\\Large{PE_{(pos, 2i)} = \\sin(pos / 10000^{2i / d_{model} })} \\\\\n",
        "\\Large{PE_{(pos, 2i+1)} = \\cos(pos / 10000^{2i / d_{model} })}\n",
        "$$\n",
        "\n",
        "The position encoding function is a stack of sines and cosines that vibrate at different frequencies depending on their location along the depth of the embedding vector. They vibrate across the position axis."
      ]
    },
    {
      "cell_type": "code",
      "execution_count": null,
      "metadata": {
        "id": "-apsgS_QXvvc"
      },
      "outputs": [],
      "source": [
        "def positional_encoding(length, depth):\n",
        "  depth = depth/2\n",
        "\n",
        "  positions = np.arange(length)[:, np.newaxis]     # (seq, 1)\n",
        "  depths = np.arange(depth)[np.newaxis, :]/depth   # (1, depth)\n",
        "\n",
        "  angle_rates = 1 / (10000**depths)         # (1, depth)\n",
        "  angle_rads = positions * angle_rates      # (pos, depth)\n",
        "\n",
        "  pos_encoding = np.concatenate([np.sin(angle_rads), np.cos(angle_rads)], axis=-1) \n",
        "\n",
        "  return tf.cast(pos_encoding, dtype=tf.float32)"
      ]
    },
    {
      "attachments": {},
      "cell_type": "markdown",
      "metadata": {
        "id": "28Fz7DPr8S8m"
      },
      "source": [
        "So we use this to create a PositionEmbedding layer that looks-up a token's embedding vector and adds the position vector:"
      ]
    },
    {
      "cell_type": "code",
      "execution_count": null,
      "metadata": {
        "id": "etv1AIEAa2Ef"
      },
      "outputs": [],
      "source": [
        "class PositionalEmbedding(tf.keras.layers.Layer):\n",
        "  def __init__(self, vocab_size, d_model):\n",
        "    super().__init__()\n",
        "    self.d_model = d_model\n",
        "    self.embedding = tf.keras.layers.Embedding(vocab_size, d_model, mask_zero=True) \n",
        "    self.pos_encoding = positional_encoding(length=2048, depth=d_model)\n",
        "\n",
        "  def compute_mask(self, *args, **kwargs):\n",
        "    return self.embedding.compute_mask(*args, **kwargs)\n",
        "\n",
        "  def call(self, x):\n",
        "    length = tf.shape(x)[1]\n",
        "    x = self.embedding(x)\n",
        "    # This factor sets the relative scale of the embedding and positonal_encoding.\n",
        "    x *= tf.math.sqrt(tf.cast(self.d_model, tf.float32))\n",
        "    x = x + self.pos_encoding[tf.newaxis, :length, :]\n",
        "    return x"
      ]
    },
    {
      "cell_type": "code",
      "execution_count": null,
      "metadata": {
        "id": "V4EWtE5NbDc2"
      },
      "outputs": [],
      "source": [
        "embed_ar = PositionalEmbedding(vocab_size=context_text_processor.vocabulary_size(), d_model=512)\n",
        "embed_en = PositionalEmbedding(vocab_size=target_text_processor.vocabulary_size(), d_model=512)\n",
        "\n",
        "ar_emb = embed_ar(ar)\n",
        "en_emb = embed_en(en)"
      ]
    },
    {
      "attachments": {},
      "cell_type": "markdown",
      "metadata": {
        "id": "DLgMnYcp8gGs"
      },
      "source": [
        "#### The base attention layer"
      ]
    },
    {
      "attachments": {},
      "cell_type": "markdown",
      "metadata": {
        "id": "7jZGmWTK9MpD"
      },
      "source": [
        "Attention layers are used throughout the model. These are all identical except for how the attention is configured. Each one contains a layers.MultiHeadAttention, a  layers.LayerNormalization and a layers.Add.\n",
        "\n",
        "The BaseAttention class is a base class that just contains the component layers. Each use-case will be implemented as a subclass."
      ]
    },
    {
      "cell_type": "code",
      "execution_count": null,
      "metadata": {
        "id": "baiWcQtJbLhc"
      },
      "outputs": [],
      "source": [
        "class BaseAttention(tf.keras.layers.Layer):\n",
        "  def __init__(self, **kwargs):\n",
        "    super().__init__()\n",
        "    self.mha = tf.keras.layers.MultiHeadAttention(**kwargs)\n",
        "    self.layernorm = tf.keras.layers.LayerNormalization()\n",
        "    self.add = tf.keras.layers.Add()"
      ]
    },
    {
      "attachments": {},
      "cell_type": "markdown",
      "metadata": {
        "id": "LS8SAxae-FhF"
      },
      "source": [
        "#### The cross attention layer"
      ]
    },
    {
      "attachments": {},
      "cell_type": "markdown",
      "metadata": {
        "id": "PHtcw0IU-Ppz"
      },
      "source": [
        "This layer connects the encoder and decoder\n",
        "\n",
        "$$\n",
        "\\begin{aligned}\n",
        "\\text{Attention}(Q, K, V) &= \\text{softmax}\\left(\\frac{QK^T}{\\sqrt{d_k}}\\right)\n",
        "\\end{aligned}\n",
        "$$"
      ]
    },
    {
      "cell_type": "code",
      "execution_count": null,
      "metadata": {
        "id": "FmZmik5Mea-E"
      },
      "outputs": [],
      "source": [
        "class CrossAttention(BaseAttention):\n",
        "  def call(self, x, context):\n",
        "    attn_output, attn_scores = self.mha(\n",
        "        query=x,\n",
        "        key=context,\n",
        "        value=context,\n",
        "        return_attention_scores=True)\n",
        "\n",
        "    self.last_attn_scores = attn_scores\n",
        "\n",
        "    x = self.add([x, attn_output])\n",
        "    x = self.layernorm(x)\n",
        "\n",
        "    return x"
      ]
    },
    {
      "cell_type": "code",
      "execution_count": null,
      "metadata": {
        "colab": {
          "base_uri": "https://localhost:8080/"
        },
        "id": "Tz-f096ElmkT",
        "outputId": "4541e144-daea-4315-f71f-84fca0f7970b"
      },
      "outputs": [
        {
          "name": "stdout",
          "output_type": "stream",
          "text": [
            "(64, 30, 512)\n",
            "(64, 29, 512)\n",
            "(64, 29, 512)\n"
          ]
        }
      ],
      "source": [
        "sample_ca = CrossAttention(num_heads=2, key_dim=512)\n",
        "\n",
        "print(ar_emb.shape)\n",
        "print(en_emb.shape)\n",
        "print(sample_ca(en_emb, ar_emb).shape)"
      ]
    },
    {
      "attachments": {},
      "cell_type": "markdown",
      "metadata": {
        "id": "XT2ubFOtHapT"
      },
      "source": [
        "#### The global self attention layer"
      ]
    },
    {
      "attachments": {},
      "cell_type": "markdown",
      "metadata": {
        "id": "pL5JaRmOHfQG"
      },
      "source": [
        "This layer is responsible for processing the context sequence, and propagating information along its length.\n",
        "The global self attention layer lets every sequence element directly access every other sequence element, with only a few operations, and all the outputs can be computed in parallel"
      ]
    },
    {
      "cell_type": "code",
      "execution_count": null,
      "metadata": {
        "id": "VBfgAh1flq5P"
      },
      "outputs": [],
      "source": [
        "class GlobalSelfAttention(BaseAttention):\n",
        "  def call(self, x):\n",
        "    attn_output = self.mha(\n",
        "        query=x,\n",
        "        value=x,\n",
        "        key=x)\n",
        "    x = self.add([x, attn_output])\n",
        "    x = self.layernorm(x)\n",
        "    return x"
      ]
    },
    {
      "cell_type": "code",
      "execution_count": null,
      "metadata": {
        "colab": {
          "base_uri": "https://localhost:8080/"
        },
        "id": "7dNW2GrCn-w2",
        "outputId": "51c80df0-b650-441e-a7ac-d42a24f8b805"
      },
      "outputs": [
        {
          "name": "stdout",
          "output_type": "stream",
          "text": [
            "(64, 30, 512)\n",
            "(64, 30, 512)\n"
          ]
        }
      ],
      "source": [
        "sample_gsa = GlobalSelfAttention(num_heads=2, key_dim=512)\n",
        "\n",
        "print(ar_emb.shape)\n",
        "print(sample_gsa(ar_emb).shape)"
      ]
    },
    {
      "attachments": {},
      "cell_type": "markdown",
      "metadata": {
        "id": "0vxopriVImC_"
      },
      "source": [
        "#### The causal self attention layer"
      ]
    },
    {
      "attachments": {},
      "cell_type": "markdown",
      "metadata": {
        "id": "WOhzo4HYI28r"
      },
      "source": [
        "This layer does a similar job as the global self attention layer, for the output sequence.\n",
        "This needs to be handled differently from the encoder's global self attention layer.\n",
        "Transformers are an \"autoregressive\" model: They generate the text one token at a time and feed that output back to the input. To make this efficient, these models ensure that the output for each sequence element only depends on the previous sequence elements; the models are \"causal\".\n",
        "To build a causal self attention layer, you need to use an appropriate mask when computing the attention scores and summing the attention values.\n",
        "\n",
        "This is taken care of automatically if you pass use_causal_mask = True to the MultiHeadAttention layer when we call it.\n",
        "\n",
        "The causal mask ensures that each location only has access to the locations that come before it"
      ]
    },
    {
      "cell_type": "code",
      "execution_count": null,
      "metadata": {
        "id": "Ng3W9lBpoCBq"
      },
      "outputs": [],
      "source": [
        "class CausalSelfAttention(BaseAttention):\n",
        "  def call(self, x):\n",
        "    attn_output = self.mha(\n",
        "        query=x,\n",
        "        value=x,\n",
        "        key=x,\n",
        "        use_causal_mask = True)\n",
        "    x = self.add([x, attn_output])\n",
        "    x = self.layernorm(x)\n",
        "    return x"
      ]
    },
    {
      "cell_type": "code",
      "execution_count": null,
      "metadata": {
        "colab": {
          "base_uri": "https://localhost:8080/"
        },
        "id": "6hxAQLlq5haI",
        "outputId": "54eb05ad-256e-47a1-f346-a564d22944a2"
      },
      "outputs": [
        {
          "name": "stdout",
          "output_type": "stream",
          "text": [
            "(64, 29, 512)\n",
            "(64, 29, 512)\n"
          ]
        }
      ],
      "source": [
        "sample_csa = CausalSelfAttention(num_heads=2, key_dim=512)\n",
        "\n",
        "print(en_emb.shape)\n",
        "print(sample_csa(en_emb).shape)"
      ]
    },
    {
      "cell_type": "code",
      "execution_count": null,
      "metadata": {
        "colab": {
          "base_uri": "https://localhost:8080/"
        },
        "id": "Fy7h4iL_5uxr",
        "outputId": "85b7c16a-d0fe-49fc-b2ac-29002a1d92ff"
      },
      "outputs": [
        {
          "data": {
            "text/plain": [
              "4.7683716e-07"
            ]
          },
          "execution_count": 30,
          "metadata": {},
          "output_type": "execute_result"
        }
      ],
      "source": [
        "out1 = sample_csa(embed_en(en[:, :3])) \n",
        "out2 = sample_csa(embed_en(en))[:, :3]\n",
        "\n",
        "tf.reduce_max(abs(out1 - out2)).numpy()"
      ]
    },
    {
      "attachments": {},
      "cell_type": "markdown",
      "metadata": {
        "id": "P3XUUeBMJs_4"
      },
      "source": [
        "#### The feed forward network\n",
        "\n",
        "The transformer includes feed-forward network in both the encoder and decoder"
      ]
    },
    {
      "cell_type": "code",
      "execution_count": null,
      "metadata": {
        "id": "FFdsdETa5-nU"
      },
      "outputs": [],
      "source": [
        "class FeedForward(tf.keras.layers.Layer):\n",
        "  def __init__(self, d_model, dff, dropout_rate=0.1):\n",
        "    super().__init__()\n",
        "    self.seq = tf.keras.Sequential([\n",
        "      tf.keras.layers.Dense(dff, activation='relu'),\n",
        "      tf.keras.layers.Dense(d_model),\n",
        "      tf.keras.layers.Dropout(dropout_rate)\n",
        "    ])\n",
        "    self.add = tf.keras.layers.Add()\n",
        "    self.layer_norm = tf.keras.layers.LayerNormalization()\n",
        "\n",
        "  def call(self, x):\n",
        "    x = self.add([x, self.seq(x)])\n",
        "    x = self.layer_norm(x) \n",
        "    return x"
      ]
    },
    {
      "cell_type": "code",
      "execution_count": null,
      "metadata": {
        "colab": {
          "base_uri": "https://localhost:8080/"
        },
        "id": "j-tj84AV6bR_",
        "outputId": "97b547eb-865c-490c-c12f-9f84384d1823"
      },
      "outputs": [
        {
          "name": "stdout",
          "output_type": "stream",
          "text": [
            "(64, 29, 512)\n",
            "(64, 29, 512)\n"
          ]
        }
      ],
      "source": [
        "sample_ffn = FeedForward(512, 2048)\n",
        "\n",
        "print(en_emb.shape)\n",
        "print(sample_ffn(en_emb).shape)"
      ]
    },
    {
      "attachments": {},
      "cell_type": "markdown",
      "metadata": {
        "id": "eWX7rDlnKxgt"
      },
      "source": [
        "#### The encoder layer\n",
        "\n",
        "The encoder contains a stack of N encoder layers. Where each EncoderLayer contains a GlobalSelfAttention and FeedForward layer"
      ]
    },
    {
      "cell_type": "code",
      "execution_count": null,
      "metadata": {
        "id": "MxpAgW1Z6c1g"
      },
      "outputs": [],
      "source": [
        "class EncoderLayer(tf.keras.layers.Layer):\n",
        "  def __init__(self,*, d_model, num_heads, dff, dropout_rate=0.1):\n",
        "    super().__init__()\n",
        "\n",
        "    self.self_attention = GlobalSelfAttention(\n",
        "        num_heads=num_heads,\n",
        "        key_dim=d_model,\n",
        "        dropout=dropout_rate)\n",
        "\n",
        "    self.ffn = FeedForward(d_model, dff)\n",
        "\n",
        "  def call(self, x):\n",
        "    x = self.self_attention(x)\n",
        "    x = self.ffn(x)\n",
        "    return x"
      ]
    },
    {
      "cell_type": "code",
      "execution_count": null,
      "metadata": {
        "colab": {
          "base_uri": "https://localhost:8080/"
        },
        "id": "Eyo0gViP6nEF",
        "outputId": "b3a8dab3-9e42-4912-e8da-b4840a17a57d"
      },
      "outputs": [
        {
          "name": "stdout",
          "output_type": "stream",
          "text": [
            "(64, 30, 512)\n",
            "(64, 30, 512)\n"
          ]
        }
      ],
      "source": [
        "sample_encoder_layer = EncoderLayer(d_model=512, num_heads=8, dff=2048)\n",
        "\n",
        "print(ar_emb.shape)\n",
        "print(sample_encoder_layer(ar_emb).shape)"
      ]
    },
    {
      "attachments": {},
      "cell_type": "markdown",
      "metadata": {
        "id": "HGuzGNU-K_6r"
      },
      "source": [
        "#### The encoder\n",
        "\n",
        "The encoder consists of:\n",
        "\n",
        "- A PositionalEmbedding layer at the input.\n",
        "- A stack of EncoderLayer layers."
      ]
    },
    {
      "cell_type": "code",
      "execution_count": null,
      "metadata": {
        "id": "jut84nCJ6rrG"
      },
      "outputs": [],
      "source": [
        "class Encoder(tf.keras.layers.Layer):\n",
        "  def __init__(self, *, num_layers, d_model, num_heads,\n",
        "               dff, vocab_size, dropout_rate=0.1):\n",
        "    super().__init__()\n",
        "\n",
        "    self.d_model = d_model\n",
        "    self.num_layers = num_layers\n",
        "\n",
        "    self.pos_embedding = PositionalEmbedding(\n",
        "        vocab_size=vocab_size, d_model=d_model)\n",
        "\n",
        "    self.enc_layers = [\n",
        "        EncoderLayer(d_model=d_model,\n",
        "                     num_heads=num_heads,\n",
        "                     dff=dff,\n",
        "                     dropout_rate=dropout_rate)\n",
        "        for _ in range(num_layers)]\n",
        "    self.dropout = tf.keras.layers.Dropout(dropout_rate)\n",
        "\n",
        "  def call(self, x):\n",
        "    # `x` is token-IDs shape: (batch, seq_len)\n",
        "    x = self.pos_embedding(x)  # Shape `(batch_size, seq_len, d_model)`.\n",
        "\n",
        "    # Add dropout.\n",
        "    x = self.dropout(x)\n",
        "\n",
        "    for i in range(self.num_layers):\n",
        "      x = self.enc_layers[i](x)\n",
        "\n",
        "    return x  # Shape `(batch_size, seq_len, d_model)`."
      ]
    },
    {
      "cell_type": "code",
      "execution_count": null,
      "metadata": {
        "colab": {
          "base_uri": "https://localhost:8080/"
        },
        "id": "hdgnqm5E79Pq",
        "outputId": "aadfefaa-9cf4-49dd-9b62-1fddff0ace6e"
      },
      "outputs": [
        {
          "name": "stdout",
          "output_type": "stream",
          "text": [
            "(64, 30)\n",
            "(64, 30, 512)\n"
          ]
        }
      ],
      "source": [
        "# Instantiate the encoder.\n",
        "sample_encoder = Encoder(num_layers=4, d_model=512, num_heads=8, dff=2048, vocab_size=max_vocab_size)\n",
        "\n",
        "sample_encoder_output = sample_encoder(ar, training=False)\n",
        "\n",
        "# Print the shape.\n",
        "print(ar.shape)\n",
        "print(sample_encoder_output.shape)  # Shape `(batch_size, input_seq_len, d_model)`."
      ]
    },
    {
      "attachments": {},
      "cell_type": "markdown",
      "metadata": {
        "id": "dUHQzJR-LJJT"
      },
      "source": [
        "#### The decoder layer\n",
        "\n",
        "The decoder's layer consists of DecoderLayer containing a CausalSelfAttention, a CrossAttention, and a FeedForward layer"
      ]
    },
    {
      "cell_type": "code",
      "execution_count": null,
      "metadata": {
        "id": "27Wt49k17_cz"
      },
      "outputs": [],
      "source": [
        "class DecoderLayer(tf.keras.layers.Layer):\n",
        "  def __init__(self,\n",
        "               *,\n",
        "               d_model,\n",
        "               num_heads,\n",
        "               dff,\n",
        "               dropout_rate=0.1):\n",
        "    super(DecoderLayer, self).__init__()\n",
        "\n",
        "    self.causal_self_attention = CausalSelfAttention(\n",
        "        num_heads=num_heads,\n",
        "        key_dim=d_model,\n",
        "        dropout=dropout_rate)\n",
        "\n",
        "    self.cross_attention = CrossAttention(\n",
        "        num_heads=num_heads,\n",
        "        key_dim=d_model,\n",
        "        dropout=dropout_rate)\n",
        "\n",
        "    self.ffn = FeedForward(d_model, dff)\n",
        "\n",
        "  def call(self, x, context):\n",
        "    x = self.causal_self_attention(x=x)\n",
        "    x = self.cross_attention(x=x, context=context)\n",
        "\n",
        "    self.last_attn_scores = self.cross_attention.last_attn_scores\n",
        "\n",
        "    x = self.ffn(x)  # Shape `(batch_size, seq_len, d_model)`.\n",
        "    return x"
      ]
    },
    {
      "cell_type": "code",
      "execution_count": null,
      "metadata": {
        "colab": {
          "base_uri": "https://localhost:8080/"
        },
        "id": "REgHS91a8UW1",
        "outputId": "7a987daf-6d7d-43a0-e7a2-2c7271184278"
      },
      "outputs": [
        {
          "name": "stdout",
          "output_type": "stream",
          "text": [
            "(64, 29, 512)\n",
            "(64, 30, 512)\n",
            "(64, 29, 512)\n"
          ]
        }
      ],
      "source": [
        "sample_decoder_layer = DecoderLayer(d_model=512, num_heads=8, dff=2048)\n",
        "\n",
        "sample_decoder_layer_output = sample_decoder_layer(\n",
        "    x=en_emb, context=ar_emb)\n",
        "\n",
        "print(en_emb.shape)\n",
        "print(ar_emb.shape)\n",
        "print(sample_decoder_layer_output.shape)  # `(batch_size, seq_len, d_model)`"
      ]
    },
    {
      "attachments": {},
      "cell_type": "markdown",
      "metadata": {
        "id": "E7UVV6MsLc8Z"
      },
      "source": [
        "#### The decoder\n",
        "Similar to the Encoder, the Decoder consists of a PositionalEmbedding, and a stack of DecoderLayers"
      ]
    },
    {
      "cell_type": "code",
      "execution_count": null,
      "metadata": {
        "id": "4BzdYw-d8XoG"
      },
      "outputs": [],
      "source": [
        "class Decoder(tf.keras.layers.Layer):\n",
        "  def __init__(self, *, num_layers, d_model, num_heads, dff, vocab_size,\n",
        "               dropout_rate=0.1):\n",
        "    super(Decoder, self).__init__()\n",
        "\n",
        "    self.d_model = d_model\n",
        "    self.num_layers = num_layers\n",
        "\n",
        "    self.pos_embedding = PositionalEmbedding(vocab_size=vocab_size, d_model=d_model)\n",
        "    self.dropout = tf.keras.layers.Dropout(dropout_rate)\n",
        "    self.dec_layers = [DecoderLayer(d_model=d_model, num_heads=num_heads, dff=dff, dropout_rate=dropout_rate) for _ in range(num_layers)]\n",
        "\n",
        "    self.last_attn_scores = None\n",
        "\n",
        "  def call(self, x, context):\n",
        "    # `x` is token-IDs shape (batch, target_seq_len)\n",
        "    x = self.pos_embedding(x)  # (batch_size, target_seq_len, d_model)\n",
        "\n",
        "    x = self.dropout(x)\n",
        "\n",
        "    for i in range(self.num_layers):\n",
        "      x  = self.dec_layers[i](x, context)\n",
        "\n",
        "    self.last_attn_scores = self.dec_layers[-1].last_attn_scores\n",
        "\n",
        "    # The shape of x is (batch_size, target_seq_len, d_model).\n",
        "    return x"
      ]
    },
    {
      "cell_type": "code",
      "execution_count": null,
      "metadata": {
        "colab": {
          "base_uri": "https://localhost:8080/"
        },
        "id": "ywD_iaLA8q2a",
        "outputId": "8f979cb9-111e-44a6-aeb8-dd33c5b738db"
      },
      "outputs": [
        {
          "name": "stdout",
          "output_type": "stream",
          "text": [
            "(64, 29)\n",
            "(64, 30, 512)\n",
            "(64, 29, 512)\n"
          ]
        }
      ],
      "source": [
        "# Instantiate the decoder.\n",
        "sample_decoder = Decoder(num_layers=4, d_model=512, num_heads=8, dff=2048, vocab_size=max_vocab_size)\n",
        "\n",
        "output = sample_decoder(x=en, context=ar_emb)\n",
        "\n",
        "# Print the shapes.\n",
        "print(en.shape)\n",
        "print(ar_emb.shape)\n",
        "print(output.shape)"
      ]
    },
    {
      "attachments": {},
      "cell_type": "markdown",
      "metadata": {
        "id": "E93L3yTMLo8r"
      },
      "source": [
        "#### The Transformer\n",
        "We now have Encoder and Decoder. To complete the Transformer model, we need to put them together and add a final linear (Dense) layer which converts the resulting vector at each location into output token probabilities.\n",
        "\n",
        "The output of the decoder is the input to this final linear layer.\n",
        "\n",
        "A Transformer with one layer in both the Encoder and Decoder looks almost exactly like the model from the RNN+attention tutorial. A multi-layer Transformer has more layers, but is fundamentally doing the same thing."
      ]
    },
    {
      "cell_type": "code",
      "execution_count": null,
      "metadata": {
        "id": "YNsZSFArBOfM"
      },
      "outputs": [],
      "source": [
        "class Transformer(tf.keras.Model):\n",
        "  def __init__(self, *, num_layers, d_model, num_heads, dff,\n",
        "               input_vocab_size, target_vocab_size, dropout_rate=0.1):\n",
        "    super().__init__()\n",
        "    self.encoder = Encoder(num_layers=num_layers, d_model=d_model,\n",
        "                           num_heads=num_heads, dff=dff,\n",
        "                           vocab_size=input_vocab_size,\n",
        "                           dropout_rate=dropout_rate)\n",
        "\n",
        "    self.decoder = Decoder(num_layers=num_layers, d_model=d_model,\n",
        "                           num_heads=num_heads, dff=dff,\n",
        "                           vocab_size=target_vocab_size,\n",
        "                           dropout_rate=dropout_rate)\n",
        "\n",
        "    self.final_layer = tf.keras.layers.Dense(target_vocab_size)\n",
        "\n",
        "  def call(self, inputs):\n",
        "\n",
        "    context, x  = inputs\n",
        "\n",
        "    context = self.encoder(context)  # (batch_size, context_len, d_model)\n",
        "\n",
        "    x = self.decoder(x, context)  # (batch_size, target_len, d_model)\n",
        "\n",
        "    # Final linear layer output.\n",
        "    logits = self.final_layer(x)  # (batch_size, target_len, target_vocab_size)\n",
        "\n",
        "    try:\n",
        "      del logits._keras_mask\n",
        "    except AttributeError:\n",
        "      pass\n",
        "\n",
        "    return logits"
      ]
    },
    {
      "cell_type": "code",
      "execution_count": null,
      "metadata": {
        "id": "b2P4fPI6C_ko"
      },
      "outputs": [],
      "source": [
        "# # Model parameters in original paper\n",
        "# num_layers = 6\n",
        "# d_model = 512\n",
        "# dff = 2048\n",
        "# num_heads = 8\n",
        "# dropout_rate = 0.1\n",
        "\n",
        "# parameters used in this code\n",
        "num_layers = 4\n",
        "d_model = 128\n",
        "dff = 512\n",
        "num_heads = 8\n",
        "dropout_rate = 0.1"
      ]
    },
    {
      "cell_type": "code",
      "execution_count": null,
      "metadata": {
        "id": "NjnQ3As8DKGp"
      },
      "outputs": [],
      "source": [
        "transformer = Transformer(\n",
        "    num_layers=num_layers,\n",
        "    d_model=d_model,\n",
        "    num_heads=num_heads,\n",
        "    dff=dff,\n",
        "    input_vocab_size=context_text_processor.vocabulary_size(),\n",
        "    target_vocab_size=target_text_processor.vocabulary_size(),\n",
        "    dropout_rate=dropout_rate)"
      ]
    },
    {
      "cell_type": "code",
      "execution_count": null,
      "metadata": {
        "colab": {
          "base_uri": "https://localhost:8080/"
        },
        "id": "_HeYHTAoDNA3",
        "outputId": "bc76d24a-780d-4bf3-bb13-b223f68e7e10"
      },
      "outputs": [
        {
          "name": "stdout",
          "output_type": "stream",
          "text": [
            "(64, 29)\n",
            "(64, 30)\n",
            "(64, 29, 22867)\n"
          ]
        }
      ],
      "source": [
        "output = transformer((ar, en))\n",
        "\n",
        "print(en.shape)\n",
        "print(ar.shape)\n",
        "print(output.shape)"
      ]
    },
    {
      "cell_type": "code",
      "execution_count": null,
      "metadata": {
        "colab": {
          "base_uri": "https://localhost:8080/"
        },
        "id": "0EjFN4dADPWj",
        "outputId": "f58c3abe-b86e-43ec-a31e-45ca7023bc30"
      },
      "outputs": [
        {
          "name": "stdout",
          "output_type": "stream",
          "text": [
            "(64, 8, 29, 30)\n"
          ]
        }
      ],
      "source": [
        "attn_scores = transformer.decoder.dec_layers[-1].last_attn_scores\n",
        "print(attn_scores.shape)  # (batch, heads, target_seq, input_seq)"
      ]
    },
    {
      "cell_type": "code",
      "execution_count": null,
      "metadata": {
        "colab": {
          "base_uri": "https://localhost:8080/"
        },
        "id": "AWtjhKvYDWdh",
        "outputId": "e0fbca86-0772-4282-c5ed-0522604d639c"
      },
      "outputs": [
        {
          "name": "stdout",
          "output_type": "stream",
          "text": [
            "Model: \"transformer\"\n",
            "_________________________________________________________________\n",
            " Layer (type)                Output Shape              Param #   \n",
            "=================================================================\n",
            " encoder_1 (Encoder)         multiple                  8496256   \n",
            "                                                                 \n",
            " decoder_1 (Decoder)         multiple                  7676800   \n",
            "                                                                 \n",
            " dense_38 (Dense)            multiple                  2949843   \n",
            "                                                                 \n",
            "=================================================================\n",
            "Total params: 19,122,899\n",
            "Trainable params: 19,122,899\n",
            "Non-trainable params: 0\n",
            "_________________________________________________________________\n"
          ]
        }
      ],
      "source": [
        "transformer.summary()"
      ]
    },
    {
      "attachments": {},
      "cell_type": "markdown",
      "metadata": {
        "id": "kZo0hvkTmfrf"
      },
      "source": [
        "### Training\n",
        "\n",
        "Optimizer:\n",
        "\n",
        "Use the Adam optimizer with a custom learning rate scheduler according to the formula in the original Transformer paper.\n",
        "\n",
        "$$\n",
        "\\Large{lrate = d_{model}^{-0.5} * \\min(step{\\_}num^{-0.5}, step{\\_}num \\cdot warmup{\\_}steps^{-1.5})}\n",
        "$$"
      ]
    },
    {
      "cell_type": "code",
      "execution_count": null,
      "metadata": {
        "id": "t3pUQ_I8DZ6B"
      },
      "outputs": [],
      "source": [
        "class CustomSchedule(tf.keras.optimizers.schedules.LearningRateSchedule):\n",
        "  def __init__(self, d_model, warmup_steps=4000):\n",
        "    super().__init__()\n",
        "\n",
        "    self.d_model = d_model\n",
        "    self.d_model = tf.cast(self.d_model, tf.float32)\n",
        "\n",
        "    self.warmup_steps = warmup_steps\n",
        "\n",
        "  def __call__(self, step):\n",
        "    step = tf.cast(step, dtype=tf.float32)\n",
        "    arg1 = tf.math.rsqrt(step)\n",
        "    arg2 = step * (self.warmup_steps ** -1.5)\n",
        "\n",
        "    return tf.math.rsqrt(self.d_model) * tf.math.minimum(arg1, arg2)"
      ]
    },
    {
      "cell_type": "code",
      "execution_count": null,
      "metadata": {
        "id": "NcZudiJsDknO"
      },
      "outputs": [],
      "source": [
        "learning_rate = CustomSchedule(d_model)\n",
        "\n",
        "optimizer = tf.keras.optimizers.Adam(learning_rate, beta_1=0.9, beta_2=0.98, epsilon=1e-9)"
      ]
    },
    {
      "cell_type": "code",
      "execution_count": null,
      "metadata": {
        "colab": {
          "base_uri": "https://localhost:8080/",
          "height": 466
        },
        "id": "Z1vgFBZYDm8x",
        "outputId": "55de98d3-bb03-41e7-9619-62ac608e0c26"
      },
      "outputs": [
        {
          "data": {
            "text/plain": [
              "Text(0.5, 0, 'Train Step')"
            ]
          },
          "execution_count": 49,
          "metadata": {},
          "output_type": "execute_result"
        },
        {
          "data": {
            "image/png": "[encoded data removed]",
            "text/plain": [
              "<Figure size 640x480 with 1 Axes>"
            ]
          },
          "metadata": {},
          "output_type": "display_data"
        }
      ],
      "source": [
        "plt.plot(learning_rate(tf.range(40000, dtype=tf.float32)))\n",
        "plt.ylabel('Learning Rate')\n",
        "plt.xlabel('Train Step')"
      ]
    },
    {
      "attachments": {},
      "cell_type": "markdown",
      "metadata": {
        "id": "bqhc-9zonEun"
      },
      "source": [
        "#### Defining Loss and Accuracy functions\n",
        "\n",
        "Applying a padding mask when calculating the loss because the target sequences are padded."
      ]
    },
    {
      "cell_type": "code",
      "execution_count": null,
      "metadata": {
        "id": "dCrQtt3FDqsA"
      },
      "outputs": [],
      "source": [
        "def masked_loss(label, pred):\n",
        "  mask = label != 0\n",
        "  loss_object = tf.keras.losses.SparseCategoricalCrossentropy(from_logits=True, reduction='none')\n",
        "  loss = loss_object(label, pred)\n",
        "\n",
        "  mask = tf.cast(mask, dtype=loss.dtype)\n",
        "  loss *= mask\n",
        "\n",
        "  loss = tf.reduce_sum(loss)/tf.reduce_sum(mask)\n",
        "  return loss"
      ]
    },
    {
      "cell_type": "code",
      "execution_count": null,
      "metadata": {
        "id": "C9q0uGO7rmiQ"
      },
      "outputs": [],
      "source": [
        "def masked_accuracy(label, pred):\n",
        "  pred = tf.argmax(pred, axis=2)\n",
        "  label = tf.cast(label, pred.dtype)\n",
        "  match = label == pred\n",
        "\n",
        "  mask = label != 0\n",
        "\n",
        "  match = match & mask\n",
        "\n",
        "  match = tf.cast(match, dtype=tf.float32)\n",
        "  mask = tf.cast(mask, dtype=tf.float32)\n",
        "  return tf.reduce_sum(match)/tf.reduce_sum(mask)"
      ]
    },
    {
      "cell_type": "code",
      "execution_count": null,
      "metadata": {
        "id": "CcP3Hdr-DufQ"
      },
      "outputs": [],
      "source": [
        "transformer.compile(loss=masked_loss, optimizer=optimizer, metrics=[masked_accuracy])"
      ]
    },
    {
      "cell_type": "code",
      "execution_count": null,
      "metadata": {
        "colab": {
          "base_uri": "https://localhost:8080/"
        },
        "id": "RzxUgarBDxKH",
        "outputId": "2d745100-60b3-493a-9447-b4aac34e2248"
      },
      "outputs": [
        {
          "name": "stdout",
          "output_type": "stream",
          "text": [
            "Epoch 1/25\n",
            "292/292 [==============================] - 51s 141ms/step - loss: 9.3221 - masked_accuracy: 0.0495 - val_loss: 8.1665 - val_masked_accuracy: 0.0533\n",
            "Epoch 2/25\n",
            "292/292 [==============================] - 40s 137ms/step - loss: 7.1799 - masked_accuracy: 0.1127 - val_loss: 6.7091 - val_masked_accuracy: 0.1396\n",
            "Epoch 3/25\n",
            "292/292 [==============================] - 40s 138ms/step - loss: 6.2688 - masked_accuracy: 0.1757 - val_loss: 6.1312 - val_masked_accuracy: 0.1985\n",
            "Epoch 4/25\n",
            "292/292 [==============================] - 40s 138ms/step - loss: 5.7557 - masked_accuracy: 0.2140 - val_loss: 5.8616 - val_masked_accuracy: 0.2229\n",
            "Epoch 5/25\n",
            "292/292 [==============================] - 40s 138ms/step - loss: 5.3880 - masked_accuracy: 0.2416 - val_loss: 5.6664 - val_masked_accuracy: 0.2433\n",
            "Epoch 6/25\n",
            "292/292 [==============================] - 40s 137ms/step - loss: 5.0500 - masked_accuracy: 0.2683 - val_loss: 5.5296 - val_masked_accuracy: 0.2621\n",
            "Epoch 7/25\n",
            "292/292 [==============================] - 40s 135ms/step - loss: 4.7080 - masked_accuracy: 0.2983 - val_loss: 5.3109 - val_masked_accuracy: 0.2838\n",
            "Epoch 8/25\n",
            "292/292 [==============================] - 40s 138ms/step - loss: 4.3633 - masked_accuracy: 0.3305 - val_loss: 5.2752 - val_masked_accuracy: 0.2985\n",
            "Epoch 9/25\n",
            "292/292 [==============================] - 40s 138ms/step - loss: 4.0119 - masked_accuracy: 0.3644 - val_loss: 5.0928 - val_masked_accuracy: 0.3125\n",
            "Epoch 10/25\n",
            "292/292 [==============================] - 39s 135ms/step - loss: 3.6617 - masked_accuracy: 0.4023 - val_loss: 5.0828 - val_masked_accuracy: 0.3240\n",
            "Epoch 11/25\n",
            "292/292 [==============================] - 40s 138ms/step - loss: 3.3189 - masked_accuracy: 0.4395 - val_loss: 5.0873 - val_masked_accuracy: 0.3275\n",
            "Epoch 12/25\n",
            "292/292 [==============================] - 40s 137ms/step - loss: 2.9883 - masked_accuracy: 0.4763 - val_loss: 5.1293 - val_masked_accuracy: 0.3363\n",
            "Epoch 13/25\n",
            "292/292 [==============================] - 40s 137ms/step - loss: 2.6713 - masked_accuracy: 0.5133 - val_loss: 5.2578 - val_masked_accuracy: 0.3417\n",
            "Epoch 14/25\n",
            "292/292 [==============================] - 40s 138ms/step - loss: 2.3767 - masked_accuracy: 0.5495 - val_loss: 5.4347 - val_masked_accuracy: 0.3371\n",
            "Epoch 15/25\n",
            "292/292 [==============================] - 40s 137ms/step - loss: 2.0537 - masked_accuracy: 0.5915 - val_loss: 5.5560 - val_masked_accuracy: 0.3393\n",
            "Epoch 16/25\n",
            "292/292 [==============================] - 40s 137ms/step - loss: 1.7330 - masked_accuracy: 0.6395 - val_loss: 5.8126 - val_masked_accuracy: 0.3336\n",
            "Epoch 17/25\n",
            "292/292 [==============================] - 40s 138ms/step - loss: 1.4460 - masked_accuracy: 0.6850 - val_loss: 6.0677 - val_masked_accuracy: 0.3367\n",
            "Epoch 18/25\n",
            "292/292 [==============================] - 40s 136ms/step - loss: 1.2161 - masked_accuracy: 0.7249 - val_loss: 6.2653 - val_masked_accuracy: 0.3410\n",
            "Epoch 19/25\n",
            "292/292 [==============================] - 40s 137ms/step - loss: 1.0228 - masked_accuracy: 0.7607 - val_loss: 6.5315 - val_masked_accuracy: 0.3348\n",
            "Epoch 20/25\n",
            "292/292 [==============================] - 40s 137ms/step - loss: 0.8588 - masked_accuracy: 0.7917 - val_loss: 6.7381 - val_masked_accuracy: 0.3354\n",
            "Epoch 21/25\n",
            "292/292 [==============================] - 40s 138ms/step - loss: 0.7399 - masked_accuracy: 0.8164 - val_loss: 6.8470 - val_masked_accuracy: 0.3399\n",
            "Epoch 22/25\n",
            "292/292 [==============================] - 40s 137ms/step - loss: 0.6390 - masked_accuracy: 0.8390 - val_loss: 7.0055 - val_masked_accuracy: 0.3358\n",
            "Epoch 23/25\n",
            "292/292 [==============================] - 40s 137ms/step - loss: 0.5638 - masked_accuracy: 0.8560 - val_loss: 7.0858 - val_masked_accuracy: 0.3374\n",
            "Epoch 24/25\n",
            "292/292 [==============================] - 40s 136ms/step - loss: 0.5113 - masked_accuracy: 0.8685 - val_loss: 7.1804 - val_masked_accuracy: 0.3323\n",
            "Epoch 25/25\n",
            "292/292 [==============================] - 40s 138ms/step - loss: 0.4603 - masked_accuracy: 0.8804 - val_loss: 7.3111 - val_masked_accuracy: 0.3398\n"
          ]
        }
      ],
      "source": [
        "history = transformer.fit(train_ds, epochs=25, validation_data=val_ds, \n",
        "                          # callbacks = [tf.keras.callbacks.EarlyStopping(patience=3)]\n",
        "                          )"
      ]
    },
    {
      "attachments": {},
      "cell_type": "markdown",
      "metadata": {
        "id": "xGvsqOyVoaif"
      },
      "source": [
        "### Inference"
      ]
    },
    {
      "cell_type": "code",
      "execution_count": null,
      "metadata": {
        "id": "HrrY7YsVEjv9"
      },
      "outputs": [],
      "source": [
        "class Translator(tf.Module):\n",
        "  def __init__(self, target_text_processor, context_text_processor, transformer):\n",
        "    self.transformer = transformer\n",
        "    # target text processor\n",
        "    self.target_text_processor = target_text_processor\n",
        "    self.context_text_processor = context_text_processor\n",
        "    self.vocab_size = self.target_text_processor.vocabulary_size()\n",
        "    self.word_to_id = tf.keras.layers.StringLookup(vocabulary = self.target_text_processor.get_vocabulary(), mask_token='', oov_token='[UNK]')\n",
        "    self.id_to_word = tf.keras.layers.StringLookup(vocabulary = self.target_text_processor.get_vocabulary(), mask_token='', oov_token='[UNK]', invert=True)\n",
        "    self.start_token = self.word_to_id('[START]')[tf.newaxis]\n",
        "    self.end_token = self.word_to_id('[END]')[tf.newaxis]\n",
        "\n",
        "  \n",
        "  def tokens_to_text(self, tokens):\n",
        "    words = self.id_to_word(tokens)\n",
        "    result = tf.strings.reduce_join(words, axis=-1, separator=' ')\n",
        "    result = tf.strings.regex_replace(result, '^ *\\[START\\] *', '')\n",
        "    result = tf.strings.regex_replace(result, ' *\\[END\\] *$', '')\n",
        "    return result\n",
        "    \n",
        "  def __call__(self, sentence, max_length=128):\n",
        "    # The input sentence is English, hence adding the `[START]` and `[END]` tokens.\n",
        "    assert isinstance(sentence, tf.Tensor)\n",
        "    if len(sentence.shape) == 0:\n",
        "      sentence = sentence[tf.newaxis]\n",
        "\n",
        "    # tokenizing the sentence and converting it ti tokens ID\n",
        "    sentence = self.context_text_processor(sentence)\n",
        "\n",
        "    encoder_input = sentence\n",
        "\n",
        "    # output_array which will hold the predicted tokens ID\n",
        "    output_array = tf.TensorArray(dtype=tf.int64, size=0, dynamic_size=True)\n",
        "    output_array = output_array.write(0, self.start_token)\n",
        "\n",
        "    for i in tf.range(max_length):\n",
        "      # getting the predicted tokens so far\n",
        "      output = tf.transpose(output_array.stack())\n",
        "      # getting the new prediction\n",
        "      predictions = self.transformer([encoder_input, output], training=False)\n",
        "\n",
        "      # Select the last token.\n",
        "      predictions = predictions[:, -1:, :]  # Shape `(batch_size, 1, vocab_size)`.\n",
        "\n",
        "      predicted_id = tf.argmax(predictions, axis=-1)\n",
        "\n",
        "      # Concatenate the `predicted_id` to the output which is given to the decoder as its input.\n",
        "      output_array = output_array.write(i+1, predicted_id[0])\n",
        "\n",
        "      if predicted_id == self.end_token:\n",
        "        break\n",
        "\n",
        "    output = tf.transpose(output_array.stack())\n",
        "    result = self.tokens_to_text(output)[0]\n",
        "\n",
        "    self.transformer([encoder_input, output[:,:-1]], training=False)\n",
        "    attention_weights = self.transformer.decoder.last_attn_scores\n",
        "\n",
        "    return result, attention_weights"
      ]
    },
    {
      "cell_type": "code",
      "execution_count": null,
      "metadata": {
        "id": "3smb_iDNFJMl"
      },
      "outputs": [],
      "source": [
        "translator = Translator(target_text_processor, context_text_processor, transformer)"
      ]
    },
    {
      "cell_type": "code",
      "execution_count": null,
      "metadata": {
        "id": "VuCMlToyFL0l"
      },
      "outputs": [],
      "source": [
        "def print_translation(sentence, tokens, ground_truth):\n",
        "  print(f'{\"Input:\":15s}: {sentence}')\n",
        "  print(f'{\"Prediction\":15s}: {tokens.numpy().decode(\"utf-8\")}')\n",
        "  print(f'{\"Ground truth\":15s}: {ground_truth}')"
      ]
    },
    {
      "attachments": {},
      "cell_type": "markdown",
      "metadata": {
        "id": "LmeFe6_xyJvO"
      },
      "source": [
        "### BLUE SCORE"
      ]
    },
    {
      "cell_type": "code",
      "execution_count": null,
      "metadata": {
        "id": "MtRUmIKhyL2W"
      },
      "outputs": [],
      "source": [
        "### STEP 1: Computing the Brevity Penalty\n",
        "def brevity_penalty(reference, candidate):\n",
        "    ref_length = len(reference)\n",
        "    can_length = len(candidate)\n",
        "\n",
        "    # Brevity Penalty\n",
        "    if ref_length > can_length:\n",
        "        BP = 1\n",
        "    else:\n",
        "        penalty = 1 - (ref_length / can_length)\n",
        "        BP = np.exp(penalty)\n",
        "\n",
        "    return BP\n",
        "\n",
        "### STEP 2: Computing the Precision\n",
        "def clipped_precision(reference, candidate):\n",
        "\n",
        "    clipped_precision_score = []\n",
        "\n",
        "    for i in range(1, 5):\n",
        "        candidate_n_gram = Counter(ngrams(candidate, i))  # counts of n-gram tokens for the candidate\n",
        "        reference_n_gram = Counter(ngrams(reference, i))  # counts of n-gram tokens for the reference\n",
        "\n",
        "        c = sum(reference_n_gram.values())  # sum of the values of the reference the denominator in the precision formula\n",
        "\n",
        "        for j in reference_n_gram:  # for every n_gram token in the reference\n",
        "            if j in candidate_n_gram:  # check if it is in the candidate n-gram\n",
        "\n",
        "                if (reference_n_gram[j] > candidate_n_gram[j]):  # if the count of the reference n-gram is bigger\n",
        "                    # than the corresponding count in the candidate n-gram\n",
        "                    reference_n_gram[j] = candidate_n_gram[j]  # then set the count of the reference n-gram to be equal\n",
        "                    # to the count of the candidate n-gram\n",
        "            else:\n",
        "                reference_n_gram[j] = 0  # else reference n-gram = 0\n",
        "\n",
        "        clipped_precision_score.append(sum(reference_n_gram.values()) / c)\n",
        "\n",
        "    weights = [0.25] * 4\n",
        "\n",
        "    s = (w_i * np.log(p_i) for w_i, p_i in zip(weights, clipped_precision_score))\n",
        "    s = np.exp(np.sum(s))\n",
        "    return s\n",
        "\n",
        "### STEP 3: Computing the BLEU score\n",
        "def bleu_score(reference, candidate):\n",
        "    BP = brevity_penalty(reference, candidate)\n",
        "    precision = clipped_precision(reference, candidate)\n",
        "    return BP * precision"
      ]
    },
    {
      "cell_type": "code",
      "execution_count": null,
      "metadata": {
        "colab": {
          "base_uri": "https://localhost:8080/"
        },
        "id": "tTep7azOFPdy",
        "outputId": "66b9c0cf-1099-4761-d514-5eae5eafc57a"
      },
      "outputs": [
        {
          "name": "stdout",
          "output_type": "stream",
          "text": [
            "Input:         : هذه القلعة مدهشة\n",
            "Prediction     : this castle is mine .\n",
            "Ground truth   : This castle is amazing .\n"
          ]
        }
      ],
      "source": [
        "sentence = \"هذه القلعة مدهشة\"\n",
        "ground_truth = \"This castle is amazing .\"\n",
        "\n",
        "translated_text, attention_weights = translator(tf.constant(sentence))\n",
        "print_translation(sentence, translated_text, ground_truth)"
      ]
    },
    {
      "cell_type": "code",
      "execution_count": null,
      "metadata": {
        "colab": {
          "base_uri": "https://localhost:8080/"
        },
        "id": "nfKamcmYTZsS",
        "outputId": "a0695249-6f4d-4d90-ed39-c4c8b25e1cec"
      },
      "outputs": [
        {
          "name": "stdout",
          "output_type": "stream",
          "text": [
            "BLUE Score:  62.0\n"
          ]
        }
      ],
      "source": [
        "print(\"BLUE Score: \",round(bleu_score(ground_truth, translated_text.numpy().decode()) * 100, 1),)"
      ]
    },
    {
      "cell_type": "code",
      "execution_count": null,
      "metadata": {
        "colab": {
          "base_uri": "https://localhost:8080/"
        },
        "id": "iuJnA5cUFVC0",
        "outputId": "f7fc6a40-1b01-486b-add5-e98a13112779"
      },
      "outputs": [
        {
          "name": "stdout",
          "output_type": "stream",
          "text": [
            "Input:         : انا لا اشعر بالعطش\n",
            "Prediction     : i am not thirsty .\n",
            "Ground truth   : I am not thirsty .\n"
          ]
        }
      ],
      "source": [
        "sentence =\"انا لا اشعر بالعطش\"\n",
        "ground_truth = \"I am not thirsty .\"\n",
        "\n",
        "translated_text, attention_weights = translator(tf.constant(sentence))\n",
        "print_translation(sentence, translated_text, ground_truth)"
      ]
    },
    {
      "cell_type": "code",
      "execution_count": null,
      "metadata": {
        "colab": {
          "base_uri": "https://localhost:8080/"
        },
        "id": "UDNsidioQ9w5",
        "outputId": "c62b7341-7c2d-4d3d-82d4-e762f28ae685"
      },
      "outputs": [
        {
          "name": "stdout",
          "output_type": "stream",
          "text": [
            "BLUE Score:  93.9\n"
          ]
        }
      ],
      "source": [
        "print(\"BLUE Score: \",round(bleu_score(ground_truth, translated_text.numpy().decode()) * 100, 1),)"
      ]
    },
    {
      "cell_type": "code",
      "execution_count": null,
      "metadata": {
        "colab": {
          "base_uri": "https://localhost:8080/"
        },
        "id": "cn9C20iuqtPe",
        "outputId": "62d948a5-b9a1-41f1-d667-ca2af23daa23"
      },
      "outputs": [
        {
          "name": "stdout",
          "output_type": "stream",
          "text": [
            "Input:         : عمان دي انكليزي يجري مقابلة مع المصور الوثايقي هاني مكي هنا\n",
            "Prediction     : oman d interviews hani macki an omani documentary photographer .\n",
            "Ground truth   : oman d interviews hani macki an omani documentary photographer.\n"
          ]
        }
      ],
      "source": [
        "sentence = context_raw[1000]\n",
        "ground_truth = target_raw[1000]\n",
        "\n",
        "translated_text, attention_weights = translator(tf.constant(sentence))\n",
        "print_translation(sentence, translated_text, ground_truth)"
      ]
    },
    {
      "cell_type": "code",
      "execution_count": null,
      "metadata": {
        "colab": {
          "base_uri": "https://localhost:8080/"
        },
        "id": "yI0zGMavq0yE",
        "outputId": "285039a4-2fb9-4a7d-fc10-55d9789ba2ba"
      },
      "outputs": [
        {
          "name": "stdout",
          "output_type": "stream",
          "text": [
            "BLUE Score:  100.3\n"
          ]
        }
      ],
      "source": [
        "print(\"BLUE Score: \",round(bleu_score(ground_truth, translated_text.numpy().decode()) * 100, 1),)"
      ]
    },
    {
      "attachments": {},
      "cell_type": "markdown",
      "metadata": {
        "id": "nslb-xeBLjo1"
      },
      "source": [
        "### Saving the model"
      ]
    },
    {
      "cell_type": "code",
      "execution_count": null,
      "metadata": {
        "id": "h_M7_CH7KggX"
      },
      "outputs": [],
      "source": [
        "class Export(tf.Module):\n",
        "  def __init__(self, translator):\n",
        "    self.translator = translator\n",
        "\n",
        "  @tf.function(input_signature=[tf.TensorSpec(shape=[], dtype=tf.string)])\n",
        "  def __call__(self, sentence):\n",
        "    (result, attention_weights) = self.translator(sentence, max_length=128)\n",
        "\n",
        "    return result"
      ]
    },
    {
      "cell_type": "code",
      "execution_count": null,
      "metadata": {
        "id": "Agisdem6LrV3"
      },
      "outputs": [],
      "source": [
        "export = Export(translator)"
      ]
    },
    {
      "cell_type": "code",
      "execution_count": null,
      "metadata": {
        "colab": {
          "base_uri": "https://localhost:8080/"
        },
        "id": "wkyULk_rMHbH",
        "outputId": "cf226b8e-ffa5-4012-ba34-4f5beb9d605e"
      },
      "outputs": [
        {
          "name": "stderr",
          "output_type": "stream",
          "text": [
            "WARNING:absl:Found untraced functions such as positional_embedding_4_layer_call_fn, positional_embedding_4_layer_call_and_return_conditional_losses, dropout_35_layer_call_fn, dropout_35_layer_call_and_return_conditional_losses, positional_embedding_5_layer_call_fn while saving (showing 5 of 316). These functions will not be directly callable after loading.\n"
          ]
        }
      ],
      "source": [
        "tf.saved_model.save(export, export_dir='Arabic_English_Translator')"
      ]
    },
    {
      "cell_type": "code",
      "execution_count": null,
      "metadata": {
        "id": "u-X-ZoTKMKgz"
      },
      "outputs": [],
      "source": [
        "reloaded = tf.saved_model.load('Arabic_English_Translator')"
      ]
    },
    {
      "cell_type": "code",
      "execution_count": null,
      "metadata": {
        "colab": {
          "base_uri": "https://localhost:8080/",
          "height": 35
        },
        "id": "Wq6sFY0-db4D",
        "outputId": "872e9004-ae23-47a1-ef45-2f5c12aca82c"
      },
      "outputs": [
        {
          "data": {
            "application/vnd.google.colaboratory.intrinsic+json": {
              "type": "string"
            },
            "text/plain": [
              "'i am not thirsty .'"
            ]
          },
          "execution_count": 68,
          "metadata": {},
          "output_type": "execute_result"
        }
      ],
      "source": [
        "reloaded('انا لا اشعر بالعطش').numpy().decode()"
      ]
    },
    {
      "cell_type": "code",
      "execution_count": null,
      "metadata": {
        "colab": {
          "base_uri": "https://localhost:8080/"
        },
        "id": "BP2ZvHgfMcND",
        "outputId": "755d6e32-aeaf-400d-a6b6-45355ab2d375"
      },
      "outputs": [
        {
          "name": "stdout",
          "output_type": "stream",
          "text": [
            "Input:         : عمان دي انكليزي يجري مقابلة مع المصور الوثايقي هاني مكي هنا\n",
            "Prediction     : oman d interviews hani macki an omani documentary photographer .\n",
            "Ground truth   : oman d interviews hani macki an omani documentary photographer.\n"
          ]
        }
      ],
      "source": [
        "sentence = context_raw[1000]\n",
        "ground_truth = target_raw[1000]\n",
        "\n",
        "translated_text = reloaded(sentence)\n",
        "print_translation(sentence, translated_text, ground_truth)"
      ]
    },
    {
      "cell_type": "code",
      "execution_count": null,
      "metadata": {
        "colab": {
          "base_uri": "https://localhost:8080/",
          "height": 35
        },
        "id": "Gjet-9V3bc-s",
        "outputId": "c9ec3c8d-9c9f-439b-ef55-2f78d6fb9bb6"
      },
      "outputs": [
        {
          "data": {
            "application/vnd.google.colaboratory.intrinsic+json": {
              "type": "string"
            },
            "text/plain": [
              "'/content/Arabic_English_Translator.zip'"
            ]
          },
          "execution_count": 70,
          "metadata": {},
          "output_type": "execute_result"
        }
      ],
      "source": [
        "# downloading the model\n",
        "import shutil\n",
        "folder_path = '/content/Arabic_English_Translator'\n",
        "\n",
        "# Creating a zip file of the folder\n",
        "shutil.make_archive('/content/Arabic_English_Translator', 'zip', folder_path)\n",
        "\n",
        "# Downloading the zip file\n",
        "from google.colab import files\n",
        "files.download('/content/Arabic_English_Translator.zip')"
      ]
    },
    {
      "cell_type": "code",
      "execution_count": null,
      "metadata": {
        "id": "qSwHQJlt_KrE"
      },
      "outputs": [],
      "source": []
    }
  ],
  "metadata": {
    "accelerator": "GPU",
    "colab": {
      "gpuType": "T4",
      "provenance": []
    },
    "kernelspec": {
      "display_name": "Python 3",
      "name": "python3"
    },
    "language_info": {
      "name": "python"
    }
  },
  "nbformat": 4,
  "nbformat_minor": 0
}
